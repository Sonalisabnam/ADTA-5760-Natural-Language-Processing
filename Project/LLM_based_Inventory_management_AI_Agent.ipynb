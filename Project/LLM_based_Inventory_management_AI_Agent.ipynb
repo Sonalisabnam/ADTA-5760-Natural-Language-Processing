{
  "cells": [
    {
      "cell_type": "code",
      "execution_count": 1,
      "metadata": {
        "colab": {
          "base_uri": "https://localhost:8080/",
          "height": 105
        },
        "id": "zvll2brUlUmH",
        "outputId": "95c45d3a-6be9-47b0-c695-a80330d50960"
      },
      "outputs": [
        {
          "output_type": "execute_result",
          "data": {
            "text/plain": [
              "'\\nPut an .env in the root of your Google Drive. The path to the .env file should be /content/drive/MyDrive/envFile/.env\\nWhen you mount your Drive, you can access the .env and import it into this notebook. You can put your service key .json\\nfile in the same directory if you are using a service account.\\n\\nExample of an .env file:\\n\\nPROJECT_ID=<your project id>\\nREGION=us-central1\\nBUCKET=<your staging bucket name>\\nDOCUMENT_PATH=<path to your pdfs>\\nDEPLOYED_API_ENDPOINT_ID=<This is all numbers>\\nINDEX_ENDPOINT=<not used>\\nDEPLOYED_INDEX_ID=<This is all numbers>\\nSVC_APIKEY_PATH=<path to your service account key>\\nSVC_ACCOUNT=example-service-account@<your project id>.iam.gserviceaccount.com\\nENDPOINT_NAME=<your endpoint name>\\nVECTOR_BUCKET=<your vector bucket name>\\n'"
            ],
            "application/vnd.google.colaboratory.intrinsic+json": {
              "type": "string"
            }
          },
          "metadata": {},
          "execution_count": 1
        }
      ],
      "source": [
        "\"\"\"\n",
        "Put an .env in the root of your Google Drive. The path to the .env file should be /content/drive/MyDrive/envFile/.env\n",
        "When you mount your Drive, you can access the .env and import it into this notebook. You can put your service key .json\n",
        "file in the same directory if you are using a service account.\n",
        "\n",
        "Example of an .env file:\n",
        "\n",
        "PROJECT_ID=<your project id>\n",
        "REGION=us-central1\n",
        "BUCKET=<your staging bucket name>\n",
        "DOCUMENT_PATH=<path to your pdfs>\n",
        "DEPLOYED_API_ENDPOINT_ID=<This is all numbers>\n",
        "INDEX_ENDPOINT=<not used>\n",
        "DEPLOYED_INDEX_ID=<This is all numbers>\n",
        "SVC_APIKEY_PATH=<path to your service account key>\n",
        "SVC_ACCOUNT=example-service-account@<your project id>.iam.gserviceaccount.com\n",
        "ENDPOINT_NAME=<your endpoint name>\n",
        "VECTOR_BUCKET=<your vector bucket name>\n",
        "\"\"\""
      ]
    },
    {
      "cell_type": "markdown",
      "metadata": {
        "id": "LrrZLmiYqFs3"
      },
      "source": [
        "Set up development system"
      ]
    },
    {
      "cell_type": "code",
      "execution_count": 2,
      "metadata": {
        "colab": {
          "base_uri": "https://localhost:8080/"
        },
        "id": "UmazkIq6SIFg",
        "outputId": "114adb49-7424-43ee-9cc7-90a373737c5d"
      },
      "outputs": [
        {
          "output_type": "stream",
          "name": "stdout",
          "text": [
            "Installing all packages: langchain langchain_community langchain-google-vertexai google-cloud-aiplatform google-auth==2.38.0 vertexai python-dotenv pypdf2\n",
            "\u001b[2K   \u001b[90m━━━━━━━━━━━━━━━━━━━━━━━━━━━━━━━━━━━━━━━━\u001b[0m \u001b[32m2.5/2.5 MB\u001b[0m \u001b[31m30.9 MB/s\u001b[0m eta \u001b[36m0:00:00\u001b[0m\n",
            "\u001b[2K   \u001b[90m━━━━━━━━━━━━━━━━━━━━━━━━━━━━━━━━━━━━━━━━\u001b[0m \u001b[32m99.2/99.2 kB\u001b[0m \u001b[31m7.2 MB/s\u001b[0m eta \u001b[36m0:00:00\u001b[0m\n",
            "\u001b[2K   \u001b[90m━━━━━━━━━━━━━━━━━━━━━━━━━━━━━━━━━━━━━━━━\u001b[0m \u001b[32m7.6/7.6 MB\u001b[0m \u001b[31m96.8 MB/s\u001b[0m eta \u001b[36m0:00:00\u001b[0m\n",
            "\u001b[2K   \u001b[90m━━━━━━━━━━━━━━━━━━━━━━━━━━━━━━━━━━━━━━━━\u001b[0m \u001b[32m232.6/232.6 kB\u001b[0m \u001b[31m14.9 MB/s\u001b[0m eta \u001b[36m0:00:00\u001b[0m\n",
            "\u001b[2K   \u001b[90m━━━━━━━━━━━━━━━━━━━━━━━━━━━━━━━━━━━━━━━━\u001b[0m \u001b[32m44.4/44.4 kB\u001b[0m \u001b[31m2.8 MB/s\u001b[0m eta \u001b[36m0:00:00\u001b[0m\n",
            "\u001b[2K   \u001b[90m━━━━━━━━━━━━━━━━━━━━━━━━━━━━━━━━━━━━━━━━\u001b[0m \u001b[32m43.5/43.5 kB\u001b[0m \u001b[31m2.9 MB/s\u001b[0m eta \u001b[36m0:00:00\u001b[0m\n",
            "\u001b[2K   \u001b[90m━━━━━━━━━━━━━━━━━━━━━━━━━━━━━━━━━━━━━━━━\u001b[0m \u001b[32m50.9/50.9 kB\u001b[0m \u001b[31m3.6 MB/s\u001b[0m eta \u001b[36m0:00:00\u001b[0m\n",
            "\u001b[?25h"
          ]
        }
      ],
      "source": [
        "# Moving all runtime dependencies to another notebook. This notebook is for endpoint creation only.\n",
        "import os\n",
        "import sys\n",
        "import IPython\n",
        "from io import BytesIO\n",
        "\n",
        "packages = [\n",
        "    \"langchain\",\n",
        "    \"langchain_community\",\n",
        "    \"langchain-google-vertexai\",\n",
        "    \"google-cloud-aiplatform\",\n",
        "    \"google-auth==2.38.0\",\n",
        "    \"vertexai\",\n",
        "    \"python-dotenv\",\n",
        "    \"pypdf2\"\n",
        "]\n",
        "\n",
        "packages_str = \" \".join(packages)\n",
        "print(f\"Installing all packages: {packages_str}\")\n",
        "\n",
        "IPython.get_ipython().run_line_magic(\"pip\", f\"install -qU {packages_str}\")"
      ]
    },
    {
      "cell_type": "code",
      "execution_count": 3,
      "metadata": {
        "colab": {
          "base_uri": "https://localhost:8080/"
        },
        "id": "HZlBL9fQpoCr",
        "outputId": "c0e53f51-2212-4ab9-dc97-a205c81258dd"
      },
      "outputs": [
        {
          "output_type": "stream",
          "name": "stdout",
          "text": [
            "Installing PyTorch with CUDA: torch --index-url https://download.pytorch.org/whl/cu118\n",
            "\u001b[2K     \u001b[90m━━━━━━━━━━━━━━━━━━━━━━━━━━━━━━━━━━━━━━━━\u001b[0m \u001b[32m23.2/23.2 MB\u001b[0m \u001b[31m17.6 MB/s\u001b[0m eta \u001b[36m0:00:00\u001b[0m\n",
            "\u001b[2K     \u001b[90m━━━━━━━━━━━━━━━━━━━━━━━━━━━━━━━━━━━━━━\u001b[0m \u001b[32m875.6/875.6 kB\u001b[0m \u001b[31m25.8 MB/s\u001b[0m eta \u001b[36m0:00:00\u001b[0m\n",
            "\u001b[2K     \u001b[90m━━━━━━━━━━━━━━━━━━━━━━━━━━━━━━━━━━━━━━━━\u001b[0m \u001b[32m13.1/13.1 MB\u001b[0m \u001b[31m68.3 MB/s\u001b[0m eta \u001b[36m0:00:00\u001b[0m\n",
            "\u001b[2K     \u001b[90m━━━━━━━━━━━━━━━━━━━━━━━━━━━━━━━━━━━━━━━\u001b[0m \u001b[32m663.9/663.9 MB\u001b[0m \u001b[31m2.6 MB/s\u001b[0m eta \u001b[36m0:00:00\u001b[0m\n",
            "\u001b[2K     \u001b[90m━━━━━━━━━━━━━━━━━━━━━━━━━━━━━━━━━━━━━━━\u001b[0m \u001b[32m417.9/417.9 MB\u001b[0m \u001b[31m3.9 MB/s\u001b[0m eta \u001b[36m0:00:00\u001b[0m\n",
            "\u001b[2K     \u001b[90m━━━━━━━━━━━━━━━━━━━━━━━━━━━━━━━━━━━━━━━\u001b[0m \u001b[32m168.4/168.4 MB\u001b[0m \u001b[31m7.6 MB/s\u001b[0m eta \u001b[36m0:00:00\u001b[0m\n",
            "\u001b[2K     \u001b[90m━━━━━━━━━━━━━━━━━━━━━━━━━━━━━━━━━━━━━━━━\u001b[0m \u001b[32m58.1/58.1 MB\u001b[0m \u001b[31m12.4 MB/s\u001b[0m eta \u001b[36m0:00:00\u001b[0m\n",
            "\u001b[2K     \u001b[90m━━━━━━━━━━━━━━━━━━━━━━━━━━━━━━━━━━━━━━━\u001b[0m \u001b[32m128.2/128.2 MB\u001b[0m \u001b[31m7.1 MB/s\u001b[0m eta \u001b[36m0:00:00\u001b[0m\n",
            "\u001b[2K     \u001b[90m━━━━━━━━━━━━━━━━━━━━━━━━━━━━━━━━━━━━━━━\u001b[0m \u001b[32m204.1/204.1 MB\u001b[0m \u001b[31m6.1 MB/s\u001b[0m eta \u001b[36m0:00:00\u001b[0m\n",
            "\u001b[2K     \u001b[90m━━━━━━━━━━━━━━━━━━━━━━━━━━━━━━━━━━━━━━━\u001b[0m \u001b[32m147.8/147.8 MB\u001b[0m \u001b[31m7.4 MB/s\u001b[0m eta \u001b[36m0:00:00\u001b[0m\n",
            "\u001b[2K     \u001b[90m━━━━━━━━━━━━━━━━━━━━━━━━━━━━━━━━━━━━━━━━\u001b[0m \u001b[32m99.1/99.1 kB\u001b[0m \u001b[31m6.8 MB/s\u001b[0m eta \u001b[36m0:00:00\u001b[0m\n",
            "\u001b[2K   \u001b[90m━━━━━━━━━━━━━━━━━━━━━━━━━━━━━━━━━━━━━━━━\u001b[0m \u001b[32m848.7/848.7 MB\u001b[0m \u001b[31m2.1 MB/s\u001b[0m eta \u001b[36m0:00:00\u001b[0m\n",
            "\u001b[?25h"
          ]
        }
      ],
      "source": [
        "# Install torch separately\n",
        "pytorch_command = \"torch --index-url https://download.pytorch.org/whl/cu118\"\n",
        "print(f\"Installing PyTorch with CUDA: {pytorch_command}\")\n",
        "IPython.get_ipython().run_line_magic(\"pip\", f\"install -qU --no-input {pytorch_command}\")"
      ]
    },
    {
      "cell_type": "code",
      "execution_count": 4,
      "metadata": {
        "colab": {
          "base_uri": "https://localhost:8080/"
        },
        "id": "3s1SX5MKWKPk",
        "outputId": "33a778af-69d9-4c56-80d1-f90e14d5b837"
      },
      "outputs": [
        {
          "output_type": "stream",
          "name": "stdout",
          "text": [
            "Mounted at /content/drive\n"
          ]
        }
      ],
      "source": [
        "# Mount our Google Drive and authenticate\n",
        "# In the root directory of your drive, create a folder called \"envFile\"\n",
        "# Inside of the folder, create a .env file and create for any sensitive information like project ids.\n",
        "# The full file path should be /content/drive/MyDrive/envFile/.env\n",
        "# Every time your team runs the notebook, it will mount your Google Drive and everyone has the same\n",
        "# directory structues with the same .env file.\n",
        "try:\n",
        "    from google.colab import drive, auth\n",
        "    drive.mount('/content/drive', force_remount=True)\n",
        "    # drive.mount('/content/drive/MyDrive/envFile/.env', force_remount=True)\n",
        "    auth.authenticate_user()\n",
        "except ImportError:\n",
        "    pass"
      ]
    },
    {
      "cell_type": "code",
      "source": [
        "from google.colab import drive\n",
        "drive.mount('/content/drive')\n"
      ],
      "metadata": {
        "colab": {
          "base_uri": "https://localhost:8080/"
        },
        "id": "wkT76SjvIBm9",
        "outputId": "b1a46fee-6d55-48b3-a72a-8db5bd5419ea"
      },
      "execution_count": 5,
      "outputs": [
        {
          "output_type": "stream",
          "name": "stdout",
          "text": [
            "Drive already mounted at /content/drive; to attempt to forcibly remount, call drive.mount(\"/content/drive\", force_remount=True).\n"
          ]
        }
      ]
    },
    {
      "cell_type": "code",
      "execution_count": 6,
      "metadata": {
        "id": "XkpeSYfUqaBL"
      },
      "outputs": [],
      "source": [
        "from google.oauth2 import service_account\n",
        "from google.cloud import aiplatform, storage\n",
        "from google.cloud.aiplatform.matching_engine.matching_engine_index_endpoint import (\n",
        "    Namespace,\n",
        "    NumericNamespace,\n",
        ")"
      ]
    },
    {
      "cell_type": "code",
      "execution_count": 7,
      "metadata": {
        "id": "VJc0Knm0qn4b"
      },
      "outputs": [],
      "source": [
        "import langchain\n",
        "from langchain_google_vertexai import (\n",
        "    VectorSearchVectorStore,\n",
        "    VectorSearchVectorStoreDatastore,\n",
        "    VertexAIEmbeddings,\n",
        "    VertexAI\n",
        ")\n",
        "from langchain.schema import Document\n",
        "from langchain.prompts import PromptTemplate\n",
        "from langchain.chains import RetrievalQA"
      ]
    },
    {
      "cell_type": "code",
      "execution_count": 8,
      "metadata": {
        "id": "LkGvlrMYzQpU"
      },
      "outputs": [],
      "source": [
        "# Create your own API key or comment this out.\n",
        "# from google.colab import userdata\n",
        "# userdata.get('VertexAPI')\n",
        "# !export GOOGLE_APPLICATION_CREDENTIALS=\"/content/drive/MyDrive/envFile/svc-fishbowlAPI-5560.json\"\n",
        "# Imports\n",
        "import textwrap\n",
        "import json\n",
        "import PyPDF2\n",
        "import vertexai\n",
        "from dotenv import load_dotenv"
      ]
    },
    {
      "cell_type": "code",
      "execution_count": 9,
      "metadata": {
        "id": "HR-R68HKWWqq"
      },
      "outputs": [],
      "source": [
        "# Restart the kernel <---- Not needed anymore, but keeping it for a rainy day\n",
        "# if \"google.colab\" in sys.modules:\n",
        "#     ip_app = IPython.Application.instance()\n",
        "#     ip_app.kernel.do_shutdown(True)"
      ]
    },
    {
      "cell_type": "markdown",
      "metadata": {
        "id": "CTBef-hKZh53"
      },
      "source": []
    },
    {
      "cell_type": "code",
      "execution_count": 10,
      "metadata": {
        "colab": {
          "base_uri": "https://localhost:8080/"
        },
        "id": "gsA1aNUAHeiS",
        "outputId": "72d9bb31-140d-499d-f0e6-129197646281"
      },
      "outputs": [
        {
          "output_type": "execute_result",
          "data": {
            "text/plain": [
              "True"
            ]
          },
          "metadata": {},
          "execution_count": 10
        }
      ],
      "source": [
        "# Load environmental variables\n",
        "\n",
        "dotenv_path = '/content/drive/MyDrive/envFile/.env'\n",
        "load_dotenv(dotenv_path=dotenv_path)"
      ]
    },
    {
      "cell_type": "code",
      "execution_count": 11,
      "metadata": {
        "id": "XHMRo39CHnnt"
      },
      "outputs": [],
      "source": [
        "# store the sensitive information into variables.\n",
        "project_id = os.environ.get(\"PROJECT_ID\")\n",
        "region = os.environ.get(\"REGION\")\n",
        "bucket = os.environ.get(\"BUCKET\")\n",
        "data_path = os.environ.get(\"DOCUMENT_PATH\")\n",
        "api_endpoint_id = os.environ.get(\"DEPLOYED_API_ENDPOINT_ID\")\n",
        "index_endpoint = os.environ.get(\"INDEX_ENDPOINT\")\n",
        "deployed_index_id = os.environ.get(\"DEPLOYED_INDEX_ID\")\n",
        "svc_apikey_path = os.environ.get(\"SVC_APIKEY_PATH\")\n",
        "svc_account = os.environ.get(\"SVC_ACCOUNT\")\n",
        "vector_db = os.environ.get(\"VECTOR_BUCKET\")\n",
        "staging_bucket_uri = f\"gs://{bucket}/{data_path}\"\n",
        "vector_bucket_uri = f\"gs://{vector_db}/{data_path}\""
      ]
    },
    {
      "cell_type": "code",
      "execution_count": 12,
      "metadata": {
        "id": "hGCVRuP8ZfPu",
        "colab": {
          "base_uri": "https://localhost:8080/"
        },
        "outputId": "b285f3c2-bd43-4355-c616-4df7be4e73d5"
      },
      "outputs": [
        {
          "output_type": "stream",
          "name": "stdout",
          "text": [
            "myadta5560project, us-central1, global-bucket-5560, 5151550625711915008, 3573678872085921792\n"
          ]
        }
      ],
      "source": [
        "# debugging\n",
        "!echo $PROJECT_ID, $REGION, $BUCKET, $DEPLOYED_API_ENDPOINT_ID, $DEPLOYED_INDEX_ID"
      ]
    },
    {
      "cell_type": "code",
      "execution_count": 13,
      "metadata": {
        "colab": {
          "base_uri": "https://localhost:8080/"
        },
        "id": "FmhK6eiKoGKL",
        "outputId": "61cc8d87-96a0-43e4-bb40-aaa4c8eaec58"
      },
      "outputs": [
        {
          "output_type": "stream",
          "name": "stdout",
          "text": [
            "Service Account key path loaded: /content/drive/MyDrive/envFile/svc-fishbowlAPI-5560.json\n",
            "Vertex AI client initialized with credentials from file path.\n"
          ]
        }
      ],
      "source": [
        "# Load the secret\n",
        "if not svc_apikey_path:\n",
        "    print(\"Error: APIKEY environment variable not found in .env file.\")\n",
        "else:\n",
        "    print(f\"Service Account key path loaded: {svc_apikey_path}\")\n",
        "\n",
        "    try:\n",
        "        credentials = service_account.Credentials.from_service_account_file(svc_apikey_path)\n",
        "        aiplatform.init(project=project_id, location=region, staging_bucket=staging_bucket_uri)\n",
        "        print(\"Vertex AI client initialized with credentials from file path.\")\n",
        "    except Exception as e:\n",
        "        print(f\"Error initializing Vertex AI: {e}\")"
      ]
    },
    {
      "cell_type": "code",
      "execution_count": 14,
      "metadata": {
        "colab": {
          "base_uri": "https://localhost:8080/"
        },
        "id": "pznn4mgPRkUp",
        "outputId": "1f9bfeb2-a0a6-459b-e164-04020bc71d68"
      },
      "outputs": [
        {
          "output_type": "stream",
          "name": "stdout",
          "text": [
            "MatchingEngineIndex 'langchain-index' already exists with ID: 3573678872085921792\n",
            "MatchingEngineIndexEndpoint 'langchain-index-endpoint' already exists with ID: 5151550625711915008\n",
            "Index 'langchain-index' with ID '3573678872085921792' is already deployed to endpoint 'langchain-index-endpoint' with deployed ID 'langchain_index_id'.\n"
          ]
        }
      ],
      "source": [
        "embedding_model = VertexAIEmbeddings(model_name=\"text-embedding-005\")\n",
        "DISPLAY_NAME = \"langchain-index\"\n",
        "DEPLOYED_INDEX_ID = \"langchain_index_id\"\n",
        "DIMENSIONS = 768\n",
        "\n",
        "existing_indices = aiplatform.MatchingEngineIndex.list(filter=f'display_name=\"{DISPLAY_NAME}\"')\n",
        "\n",
        "# Prevent recreation or accidental creation of resources\n",
        "if existing_indices:\n",
        "    ai_idx = existing_indices[0]\n",
        "    print(f\"MatchingEngineIndex '{DISPLAY_NAME}' already exists with ID: {ai_idx.name}\")\n",
        "else:\n",
        "    ai_idx = aiplatform.MatchingEngineIndex.create_tree_ah_index(\n",
        "        display_name=DISPLAY_NAME,\n",
        "        dimensions=DIMENSIONS,\n",
        "        approximate_neighbors_count=150,\n",
        "        distance_measure_type=\"DOT_PRODUCT_DISTANCE\",\n",
        "        index_update_method=\"STREAM_UPDATE\",  # allowed values BATCH_UPDATE , STREAM_UPDATE\n",
        "    )\n",
        "    print(f\"Created MatchingEngineIndex '{DISPLAY_NAME}' with ID: {ai_idx.name}\")\n",
        "\n",
        "ENDPOINT_DISPLAY_NAME = f\"{DISPLAY_NAME}-endpoint\"\n",
        "existing_endpoints = aiplatform.MatchingEngineIndexEndpoint.list(filter=f'display_name=\"{ENDPOINT_DISPLAY_NAME}\"')\n",
        "\n",
        "if existing_endpoints:\n",
        "    ai_index_endpoint = existing_endpoints[0]\n",
        "    print(f\"MatchingEngineIndexEndpoint '{ENDPOINT_DISPLAY_NAME}' already exists with ID: {ai_index_endpoint.name}\")\n",
        "else:\n",
        "    ai_index_endpoint = aiplatform.MatchingEngineIndexEndpoint.create(\n",
        "        display_name=ENDPOINT_DISPLAY_NAME, public_endpoint_enabled=True\n",
        "    )\n",
        "    print(f\"Created MatchingEngineIndexEndpoint '{ENDPOINT_DISPLAY_NAME}' with ID: {ai_index_endpoint.name}\")\n",
        "\n",
        "deployed_index_found = False\n",
        "if ai_index_endpoint.deployed_indexes:\n",
        "    for deployed_index in ai_index_endpoint.deployed_indexes:\n",
        "        if deployed_index.id == DEPLOYED_INDEX_ID and deployed_index.index == ai_idx.resource_name:\n",
        "            print(f\"Index '{ai_idx.display_name}' with ID '{ai_idx.name}' is already deployed to endpoint '{ai_index_endpoint.display_name}' with deployed ID '{DEPLOYED_INDEX_ID}'.\")\n",
        "            deployed_index_found = True\n",
        "            break\n",
        "\n",
        "if not deployed_index_found:\n",
        "    # NOTE : This operation can take upto 20 minutes\n",
        "    ai_index_endpoint = ai_index_endpoint.deploy_index(\n",
        "        index=ai_idx, deployed_index_id=DEPLOYED_INDEX_ID\n",
        "    )\n",
        "    print(f\"Deployed index '{ai_idx.display_name}' with ID '{ai_idx.name}' to endpoint '{ai_index_endpoint.display_name}' with deployed ID '{DEPLOYED_INDEX_ID}'.\")"
      ]
    },
    {
      "cell_type": "code",
      "execution_count": 15,
      "metadata": {
        "id": "W25LxyhPlAOg",
        "colab": {
          "base_uri": "https://localhost:8080/"
        },
        "outputId": "8929e325-9359-4292-a250-88d7d99a5b4c"
      },
      "outputs": [
        {
          "output_type": "stream",
          "name": "stdout",
          "text": [
            "\n",
            "--- Existing Matching Engine Resources ---\n",
            "\n",
            "Matching Engine Indices:\n",
            "  Display Name: langchain-index, ID: 3573678872085921792\n",
            "\n",
            "Matching Engine Index Endpoints:\n",
            "  Display Name: langchain-index-endpoint, ID: 5151550625711915008, Deployed Indexes: [id: \"langchain_index_id\"\n",
            "index: \"projects/872233283772/locations/us-central1/indexes/3573678872085921792\"\n",
            "create_time {\n",
            "  seconds: 1744688122\n",
            "  nanos: 79276000\n",
            "}\n",
            "index_sync_time {\n",
            "  seconds: 1745280976\n",
            "  nanos: 7075000\n",
            "}\n",
            "automatic_resources {\n",
            "  min_replica_count: 2\n",
            "  max_replica_count: 2\n",
            "}\n",
            "deployment_group: \"default\"\n",
            "]\n"
          ]
        }
      ],
      "source": [
        "print(\"\\n--- Existing Matching Engine Resources ---\")\n",
        "\n",
        "print(\"\\nMatching Engine Indices:\")\n",
        "list_idx = aiplatform.MatchingEngineIndex.list()\n",
        "for idx in list_idx:\n",
        "    print(f\"  Display Name: {idx.display_name}, ID: {idx.name}\")\n",
        "\n",
        "print(\"\\nMatching Engine Index Endpoints:\")\n",
        "list_endpoints = aiplatform.MatchingEngineIndexEndpoint.list()\n",
        "for endpoint in list_endpoints:\n",
        "    print(f\"  Display Name: {endpoint.display_name}, ID: {endpoint.name}, Deployed Indexes: {endpoint.deployed_indexes}\")"
      ]
    },
    {
      "cell_type": "code",
      "execution_count": 16,
      "metadata": {
        "id": "XZbFU3cy-hTw",
        "colab": {
          "base_uri": "https://localhost:8080/"
        },
        "outputId": "ff98602b-d20b-4b3e-c287-4adad0571d35"
      },
      "outputs": [
        {
          "output_type": "stream",
          "name": "stdout",
          "text": [
            "Index Display Name: langchain-index\n",
            "Index ID: 3573678872085921792\n",
            "Index Resource Name: projects/872233283772/locations/us-central1/indexes/3573678872085921792\n",
            "--------------------\n",
            "Endpoint Display Name: langchain-index-endpoint\n",
            "Endpoint ID: 5151550625711915008\n",
            "Endpoint Resource Name: projects/872233283772/locations/us-central1/indexEndpoints/5151550625711915008\n",
            "Deployed Indexes:\n",
            "  - Deployed Index ID: langchain_index_id\n",
            "  - Index Resource Name: projects/872233283772/locations/us-central1/indexes/3573678872085921792\n",
            "--------------------\n"
          ]
        }
      ],
      "source": [
        "# List existing Matching Engine Indices\n",
        "indices = aiplatform.MatchingEngineIndex.list(\n",
        "    project=project_id, location=region\n",
        ")\n",
        "for index in indices:\n",
        "    print(f\"Index Display Name: {index.display_name}\")\n",
        "    print(f\"Index ID: {index.name}\")\n",
        "    print(f\"Index Resource Name: {index.resource_name}\")\n",
        "    print(\"-\" * 20)\n",
        "\n",
        "# List existing Matching Engine Index Endpoints\n",
        "endpoints = aiplatform.MatchingEngineIndexEndpoint.list(\n",
        "    project=project_id, location=region\n",
        ")\n",
        "for endpoint in endpoints:\n",
        "    print(f\"Endpoint Display Name: {endpoint.display_name}\")\n",
        "    print(f\"Endpoint ID: {endpoint.name}\")\n",
        "    print(f\"Endpoint Resource Name: {endpoint.resource_name}\")\n",
        "    print(\"Deployed Indexes:\")\n",
        "    for deployed_index in endpoint.deployed_indexes:\n",
        "        print(f\"  - Deployed Index ID: {deployed_index.id}\")\n",
        "        print(f\"  - Index Resource Name: {deployed_index.index}\")\n",
        "    print(\"-\" * 20)"
      ]
    },
    {
      "cell_type": "code",
      "execution_count": 17,
      "metadata": {
        "id": "28AqGdEusR96"
      },
      "outputs": [],
      "source": [
        "# Load pdfs\n",
        "def load_text_from_pdf(bucket_name: str, prefix: str = \"\"):\n",
        "    client = storage.Client()\n",
        "    bucket = client.get_bucket(bucket_name)\n",
        "    blobs = bucket.list_blobs(prefix=prefix)\n",
        "    documents = []\n",
        "\n",
        "    for blob in blobs:\n",
        "        if blob.name.lower().endswith(\".pdf\"):\n",
        "            try:\n",
        "                blob_data = blob.download_as_bytes()\n",
        "                pdf_file = BytesIO(blob_data)\n",
        "                pdf_reader = PyPDF2.PdfReader(pdf_file)\n",
        "                text_content = \"\"\n",
        "                for page_num in range(len(pdf_reader.pages)):\n",
        "                    page = pdf_reader.pages[page_num]\n",
        "                    text_content += page.extract_text()\n",
        "\n",
        "                metadata = {\"file_name\": blob.name}\n",
        "                documents.append({\"content\": text_content, \"metadata\": metadata})\n",
        "\n",
        "            except PyPDF2.errors.PdfReadError as e:\n",
        "                print(f\"Error reading PDF file {blob.name}: {e}\")\n",
        "            except Exception as e:\n",
        "                print(f\"Error processing file {blob.name}: {e}\")\n",
        "        else:\n",
        "            print(f\"Skipping non-PDF file: {blob.name}\")\n",
        "\n",
        "    return documents"
      ]
    },
    {
      "cell_type": "code",
      "execution_count": 18,
      "metadata": {
        "colab": {
          "base_uri": "https://localhost:8080/"
        },
        "id": "wgYJfEzxt_g4",
        "outputId": "4b0c01ce-711b-4e3b-9007-54561f2e8d71"
      },
      "outputs": [
        {
          "output_type": "stream",
          "name": "stdout",
          "text": [
            "Skipping non-PDF file: documents/data.zip\n",
            "Skipping non-PDF file: documents/data/\n"
          ]
        }
      ],
      "source": [
        "if __name__ == \"__main__\":\n",
        "    bucket_name = bucket\n",
        "    data = data_path\n",
        "\n",
        "    loaded_files = load_text_from_pdf(bucket_name, prefix=data)\n",
        "    # debugging\n",
        "    # for doc in loaded_files:\n",
        "    #     print(f\"File: {doc['metadata']['file_name']}\")\n",
        "    #     print(f\"Content preview: {doc['content'][:10]}...\\n\")"
      ]
    },
    {
      "cell_type": "code",
      "execution_count": 19,
      "metadata": {
        "colab": {
          "base_uri": "https://localhost:8080/"
        },
        "id": "0W6NeTuYty7K",
        "outputId": "5e3246ed-9bd1-4afe-8b2b-bf17fadc9cfa"
      },
      "outputs": [
        {
          "output_type": "stream",
          "name": "stdout",
          "text": [
            "VectorSearchVectorStore initialized.\n",
            "Adding documents to the vector store...\n",
            "Documents added to the vector store.\n"
          ]
        }
      ],
      "source": [
        "try:\n",
        "  vector_store = VectorSearchVectorStore.from_components(\n",
        "      project_id=project_id,\n",
        "      region=region,\n",
        "      gcs_bucket_name=vector_db,\n",
        "      gcs_bucket_uri=f\"gs://{vector_db}\",\n",
        "      index_id=deployed_index_id,\n",
        "      endpoint_id=api_endpoint_id,\n",
        "      embedding=embedding_model,\n",
        "      stream_update=True,\n",
        "  )\n",
        "  print(\"VectorSearchVectorStore initialized.\")\n",
        "\n",
        "  # Prepare documents for the vector store\n",
        "  documents_to_store = [\n",
        "      Document(page_content=doc['content'], metadata=doc['metadata'])\n",
        "      for doc in loaded_files\n",
        "  ]\n",
        "\n",
        "  # Add documents to the vector store\n",
        "  print(\"Adding documents to the vector store...\")\n",
        "  vector_store.add_documents(documents=documents_to_store)\n",
        "  print(\"Documents added to the vector store.\")\n",
        "\n",
        "except Exception as e:\n",
        "    print(f\"Error creating or adding to VectorSearchVectorStore: {e}\")"
      ]
    },
    {
      "cell_type": "code",
      "execution_count": 20,
      "metadata": {
        "colab": {
          "base_uri": "https://localhost:8080/"
        },
        "id": "tS1xDT3ywOLl",
        "outputId": "d7d69b35-e062-44bc-a2c6-437472deb392"
      },
      "outputs": [
        {
          "output_type": "execute_result",
          "data": {
            "text/plain": [
              "[Document(metadata={'file_name': 'documents/data/scraped_data_https___help.fishbowlinventory.com_advanced_s_article_Picking.pdf'}, page_content=\"url heading content images\\nhttps://\\nhelp.fishbowlinventory.com/\\nadvanced/s/article/PickingFishbowl\\nAdvanced -\\nPicking[]\\nhttps://\\nhelp.fishbowlinventory.com/\\nadvanced/s/article/PickingDec 17,\\n2024Knowledge[]\\nhttps://\\nhelp.fishbowlinventory.com/\\nadvanced/s/article/PickingArticle\\nDetailsThe Picking\\nmodule, located\\nin the Sales\\ngroup ,\\nfacilitates the\\nprocess of\\npicking (or\\ngathering) items\\nfrom their\\nstorage\\nlocations.\\nTypically, after\\nan item has been\\npicked, it will\\nbe ready to be\\npacked and\\nshipped in the\\nShipping module .\\nFishbowl will\\nalso create picks\\nwhen inventory\\nneeds to be\\ngathered for a\\nwork order, a\\ntransfer order,\\nor a credit\\nreturn purchase\\norder.[]\\nhttps://\\nhelp.fishbowlinventory.com/\\nadvanced/s/article/PickingContents []\\nhttps://\\nhelp.fishbowlinventory.com/\\nadvanced/s/article/PickingModule\\nbuttonsStart changes the\\npick to a Started\\nstatus .\\\\nSave\\nsaves any changes\\nmade to the pick.\\n\\\\nFinish finishes\\nany pick items\\nthat are ready\\nand changes the\\npick to Finished\\nif all items have\\nbeen finished .\\n\\\\nVoid uncommits[]url heading content images\\nthe pick items\\nand returns the\\npick to an\\nEntered status .\\n\\\\nCommit commits\\nany pick items\\nthat are ready\\nand changes the\\npick to a\\nCommitted\\nstatus .\\\\nGroup\\ngroups multiple\\npicks together to\\nbe picked at the\\nsame time .\\n\\\\nUngroup\\nseparates a\\ngrouped pick into\\nmultiple picks .\\n\\\\nTo Ship opens\\nthe current pick\\nin the Shipping\\nmodule .\\\\nEmail\\nopens a window to\\ncompose an email.\\nIf the module's\\ndefault report is\\nspecified, the\\nPDF report will\\nbe attached.\\nEmail can be\\nconfigured on the\\nEmail tab of the\\nSettings module .\\n\\\\nPrint sends the\\ndefault module\\nreport to the\\nprinter.\\\\nHow To\\nopens this\\narticle in a web\\nbrowser.\\\\nRefresh\\nreloads whatever\\nis currently open\\nin the module.\\nhttps://\\nhelp.fishbowlinventory.com/\\nadvanced/s/article/PickingPicking an\\norderWithin the\\nPicking module,\\nitems are picked\\nto fulfill order\\ndemand, whether\\nit be a sales\\norder, work\\norder, transfer[]url heading content images\\norder, or\\npurchase order.\\nBy default,\\nFishbowl will\\npick according to\\nthe Pick method\\noption that is\\nselected in the\\nPicking module\\noptions . The\\ndefault picking\\nlocation and\\ntracking\\ninformation can\\nbe changed\\nmanually when an\\nitem is being\\npicked.\\\\nThe\\nFinish column in\\nthe picking\\nsearch pane\\ndisplays how much\\nof an order is\\npickable.\\\\n\\nhttps://\\nhelp.fishbowlinventory.com/\\nadvanced/s/article/PickingPick item\\nstatusTo view Pick\\nDetails , double-\\nclick a pick in\\nthe search pane.\\nListed below are\\nthe various\\nstatuses that may\\nbe assigned to a\\npick item. In the\\nFishbowl Client,\\nhover the mouse\\nover a status\\nicon to verify\\nthe status of the\\nitem. Further\\ninformation\\nregarding how an\\nitem changes from\\none status to\\nanother can be\\nfound in the Pick\\nflow process\\nsection.\\\\nPicking\\na sales\\norder\\\\nSales\\norders, purchase\\norders, transfer\\norders, and work[]url heading content images\\norders can all\\ncreate picks. The\\nprocess for\\npicking inventory\\nfor each of these\\norder types is\\nvery similar. The\\nexample below\\ndemonstrates how\\nto pick inventory\\nfor a sales\\norder.\\\\nTo pick a\\nsales order, open\\nthe Picking\\nmodule , located\\nin the Sales\\nmodule group, and\\ndouble-click the\\nsales order in\\nthe search pane.\\nThe parts waiting\\nto be picked for\\nthe sales order\\nwill appear as\\nline items under\\nPick Details .\\n\\\\n\\\\nEach line\\nitem contains the\\nfollowing fields.\\nIf not all of the\\ndesired fields\\nare visible,\\nright-click a\\ncolumn header to\\nselect which\\ncolumns to show\\nor hide.\\\\nTo\\nbegin the picking\\nprocess, click\\nthe Start button\\non the module\\ntoolbar.\\nIndividual line\\nitems can also be\\nstarted by\\nhighlighting the\\nitem and choosing\\nthe Start button\\nlocated on the\\ncomponent toolbar\\nto the right.\\n\\\\nOnce theurl heading content images\\npicking process\\nhas been started,\\ndepending on the\\nPicking module\\noptions ,\\nFishbowl will\\nprovide the\\noption of\\nprinting the Pick\\nTicket report .\\n\\\\nThe pick\\nlocations and\\ntracking\\ninformation can\\nbe modified at\\nthis point if\\ndesired. After\\nall of the\\nchanges have been\\nmade, click the\\nFinish button on\\nthe module\\ntoolbar. To pick\\nonly individual\\nitems, highlight\\nthe line item and\\nthen click the\\nFinish button on\\nthe component\\ntoolbar to the\\nright.\\\\nOnce the\\norder is picked,\\nit can be shipped\\nby clicking the\\nTo Ship button on\\nthe module\\ntoolbar.\\\\nAn\\norder can also be\\npicked by\\nimporting\\ninformation from\\na spreadsheet .\\nhttps://\\nhelp.fishbowlinventory.com/\\nadvanced/s/article/PickingPut a pick\\nitem on holdPick items can be\\nplaced on hold by\\nhighlighting the\\nline item and\\nthen clicking the\\nHold button that\\nis located on the\\ncomponent toolbar\\nto the right.\\nWhen using the[]url heading content images\\nmodule buttons to\\nstart, commit, or\\nfinish a pick,\\nitems that are on\\nhold will not be\\nmodified.\\\\n\\\\nTo\\nremove the hold\\nstatus, highlight\\nthe line item and\\nthen click the\\nHold button\\nagain.\\nhttps://\\nhelp.fishbowlinventory.com/\\nadvanced/s/article/PickingSplit or\\ncombine a\\npick line\\nitemSometimes it may\\nbe helpful to\\nseparate one line\\nitem into\\nmultiple line\\nitems. To split\\nan item, click\\nthe quantity\\nfield and enter a\\nnew quantity.\\nAfter pressing\\nthe Enter key or\\nclicking outside\\nthe quantity\\nfield, a new line\\nitem will be\\ncreated with the\\nremaining\\nquantity.\\\\n\\\\nTo\\ncombine line\\nitems, highlight\\nthe line items by\\nholding down the\\nCtrl key on the\\nkeyboard while\\nclicking each\\nline item. Then\\nclick the Combine\\nbutton located on\\nthe component\\ntoolbar to the\\nright. Items\\ncannot be\\ncombined if they\\nhave a status of\\nCommitted or\\nFinished .\\\\n[]\\nSelect part\\ntrackingWhen picking an\\nitem with []url heading content images\\nhttps://\\nhelp.fishbowlinventory.com/\\nadvanced/s/article/Pickingtracking , the\\nuser will be\\nprompted to\\nselect the\\ntracking\\ninformation for\\nthe part that is\\nbeing picked.\\n\\\\n\\\\nOnce the\\ninventory has\\nbeen committed,\\nthe tracking can\\nbe edited by\\nhighlighting the\\nline item and\\nthen clicking the\\nEdit Tracking\\nbutton, which is\\nlocated in the\\nTracking section\\nbelow the picking\\nline items.\\nhttps://\\nhelp.fishbowlinventory.com/\\nadvanced/s/article/PickingChange pick\\nlocationThe location\\ngroup for the\\npick will default\\nto the user's\\ndefault location\\ngroup, which can\\nbe changed on the\\nLocation Groups\\ntab of the User\\nmodule . The\\nlocation group\\ncan also be\\nchanged on the\\npick by selecting\\na different\\nlocation group in\\nthe Location\\nGroup field.\\n\\\\n\\\\nTo manually\\nchange the pick\\nlocation of a\\nline item,\\nhighlight the\\nitem and click\\nthe Pick Location\\ndropdown. This\\nmenu will display\\nall of the\\nlocations where\\ninventory is[]url heading content images\\navailable for\\nthis item. Once\\nlocations have\\nbeen changed,\\nclick the Save\\nbutton located on\\nthe module\\ntoolbar.\\\\n\\nhttps://\\nhelp.fishbowlinventory.com/\\nadvanced/s/article/PickingGroup picksOrders may be\\ngrouped together\\nfor picking in\\ntwo different\\nways. To group\\nall of the\\norders, choose\\nthe Group button\\nlocated on the\\nmodule toolbar.\\nThe Group Picks\\nwindow controls\\nwhich orders will\\nbe grouped.\\nOrders may be\\ngrouped according\\nto their\\nscheduled date\\nand the number of\\nitems on the\\norder. The last\\noption controls\\nhow many orders\\nwill be grouped\\ntogether. After\\nselecting the\\nappropriate\\noptions, click OK\\nto group the\\npicks.\\\\n\\\\nTo\\ngroup together\\nspecific orders,\\nhighlight the\\norder numbers in\\nthe search pane\\nof the Picking\\nmodule . To\\nselect multiple\\norders, hold down\\nthe Ctrl key on\\nthe keyboard\\nwhile clicking\\nthe desired\\norders with the[]url heading content images\\nmouse. Once the\\norders have been\\nselected, right-\\nclick any pick\\nand then select\\nGroup from the\\ndropdown. The\\npicks will be\\ngrouped together\\nand will be shown\\nin the search\\npane with a G in\\nfront of the new\\npick number.\\n\\\\n\\\\nEach order in\\na grouped pick\\nwill\\nautomatically be\\nassigned a slot\\non the cart so\\nthat the items\\nfrom different\\norders don't get\\nmixed up.\\nhttps://\\nhelp.fishbowlinventory.com/\\nadvanced/s/article/PickingUngroup picksA pick can be\\nungrouped by\\nright-clicking\\nthe order in the\\nsearch pane and\\nselecting\\nUngroup . A pick\\ncan also be\\nungrouped by\\nhighlighting the\\ndesired pick in\\nthe search pane\\nand then clicking\\nthe Ungroup\\nbutton in the\\nmodule toolbar.\\nSelecting Ungroup\\nfrom the module\\ntoolbar will\\ndisplay the\\nUngroup Picks\\nwindow. This\\nscreen allows the\\npick to be\\nseparated by\\norder,\\nfulfillment date,\\nlocation group,[]url heading content images\\nlocation type,\\npick item status,\\nor order item.\\nAfter selecting\\nthe appropriate\\noptions, click OK\\nto ungroup the\\npick.\\\\n\\nhttps://\\nhelp.fishbowlinventory.com/\\nadvanced/s/article/PickingPick part of\\nan orderDepending on the\\nsituation, there\\nmay be a variety\\nof ways to pick\\nonly a portion of\\nan order. The\\nfirst way, for\\nexample, would be\\nif some items on\\nthe order are out\\nof stock. In this\\ncase, the user\\nwould start and\\nfinish the pick\\nto only fulfill\\nitems in stock.\\nThe pick status\\nwill be set to\\nPartial , and the\\nuser will be able\\nto fulfill the\\nremainder of the\\nitems once\\ninventory is\\navailable.\\\\n\\\\nIf\\nall of the items\\nare in stock, the\\nuser has the\\noption to split\\nitems and/or put\\nitems on hold\\nwhile picking the\\nother items. To\\nhold items,\\nhighlight the\\nline item and\\nchoose the Hold\\nbutton located on\\nthe component\\ntoolbar. The\\norder will be\\npartially\\nfinished when the\\npick is started[]url heading content images\\nand finished. The\\nrest of the order\\nmay be finished\\nat any time.\\\\n\\nhttps://\\nhelp.fishbowlinventory.com/\\nadvanced/s/article/PickingEdit tracking\\ninformationOnce an item has\\nbeen Committed ,\\nthe tracking can\\nbe edited by\\nhighlighting the\\nline item and\\nclicking the Edit\\nTracking button,\\nwhich is located\\nin the Tracking\\nsection below the\\npicking line\\nitems.\\\\n\\\\nThis\\nwill then allow\\nthe user to\\nchoose different\\ntracking\\ninformation. The\\nuser may also\\nvoid the item and\\nthen enter the\\ncorrect tracking\\ninformation when\\nre-picking the\\nitem. Once an\\nitem has been\\nfinished, it must\\nbe voided to\\nmodify the\\ntracking\\ninformation.[]\\nhttps://\\nhelp.fishbowlinventory.com/\\nadvanced/s/article/PickingLocation sort\\norderIn order to make\\nthe picking\\nprocess more\\nintuitive,\\nFishbowl provides\\nthe ability to\\nsort locations in\\nFishbowl just\\nlike they are set\\nup in the\\nwarehouse. This\\nallows the items\\nto be picked in\\nthe same order\\nthey are found in\\nthe warehouse.[]url heading content images\\nFor more\\ninformation, see\\nLocation sort\\norder .\\nhttps://\\nhelp.fishbowlinventory.com/\\nadvanced/s/article/PickingPick flow\\nprocessThe table below\\ndisplays details\\nof how each pick\\nitem status flows\\nthrough the\\npicking process.[]\\nhttps://\\nhelp.fishbowlinventory.com/\\nadvanced/s/article/PickingSearchIn the search\\npane on the left\\nof the module,\\norders can be\\nfiltered by\\nNumber , Order ,\\nOrder type , and\\nStatus . Click\\nthe Advanced\\nSearch button to\\nsearch the Custom\\nFields and the\\nfollowing search\\noptions.\\\\n\\\\nThe\\nGeneral tab\\ncontains nearly\\nall of the\\ninformation about\\nthe pick.\\\\nThe\\nDetails tab\\ndisplays some\\nadditional\\ninformation about\\nthe pick.\\\\nThe\\nMemo tab can be\\nused to add\\ninformation to\\neach pick. The\\nupper pane\\ndisplays the\\nmemos, the date\\nthey were\\ncreated, and the\\nuser who created\\nthem.\\nHighlighting a\\nmemo will display\\nthe details of\\nthe memo in the\\nlower pane.\\\\nThe\\nCustom tab stores[]url heading content images\\nadditional fields\\nfor the pick that\\ncan be customized\\nto fit the needs\\nof each company.\\n\\\\n\\\\nSome aspects\\nof the Picking\\nmodule can be\\ncustomized by\\nopening the\\nmodule, clicking\\nthe Tools menu,\\nand then\\nselecting Module\\nOptions .\\\\n\\nhttps://\\nhelp.fishbowlinventory.com/\\nadvanced/s/article/PickingInformation []\"),\n",
              " Document(metadata={'file_name': 'documents/data/scraped_data_https___help.fishbowlinventory.com_advanced_s_article_Picking.pdf'}, page_content=\"url heading content images\\nhttps://\\nhelp.fishbowlinventory.com/\\nadvanced/s/article/PickingFishbowl\\nAdvanced -\\nPicking[]\\nhttps://\\nhelp.fishbowlinventory.com/\\nadvanced/s/article/PickingDec 17,\\n2024Knowledge[]\\nhttps://\\nhelp.fishbowlinventory.com/\\nadvanced/s/article/PickingArticle\\nDetailsThe Picking\\nmodule, located\\nin the Sales\\ngroup ,\\nfacilitates the\\nprocess of\\npicking (or\\ngathering) items\\nfrom their\\nstorage\\nlocations.\\nTypically, after\\nan item has been\\npicked, it will\\nbe ready to be\\npacked and\\nshipped in the\\nShipping module .\\nFishbowl will\\nalso create picks\\nwhen inventory\\nneeds to be\\ngathered for a\\nwork order, a\\ntransfer order,\\nor a credit\\nreturn purchase\\norder.[]\\nhttps://\\nhelp.fishbowlinventory.com/\\nadvanced/s/article/PickingContents []\\nhttps://\\nhelp.fishbowlinventory.com/\\nadvanced/s/article/PickingModule\\nbuttonsStart changes the\\npick to a Started\\nstatus .\\\\nSave\\nsaves any changes\\nmade to the pick.\\n\\\\nFinish finishes\\nany pick items\\nthat are ready\\nand changes the\\npick to Finished\\nif all items have\\nbeen finished .\\n\\\\nVoid uncommits[]url heading content images\\nthe pick items\\nand returns the\\npick to an\\nEntered status .\\n\\\\nCommit commits\\nany pick items\\nthat are ready\\nand changes the\\npick to a\\nCommitted\\nstatus .\\\\nGroup\\ngroups multiple\\npicks together to\\nbe picked at the\\nsame time .\\n\\\\nUngroup\\nseparates a\\ngrouped pick into\\nmultiple picks .\\n\\\\nTo Ship opens\\nthe current pick\\nin the Shipping\\nmodule .\\\\nEmail\\nopens a window to\\ncompose an email.\\nIf the module's\\ndefault report is\\nspecified, the\\nPDF report will\\nbe attached.\\nEmail can be\\nconfigured on the\\nEmail tab of the\\nSettings module .\\n\\\\nPrint sends the\\ndefault module\\nreport to the\\nprinter.\\\\nHow To\\nopens this\\narticle in a web\\nbrowser.\\\\nRefresh\\nreloads whatever\\nis currently open\\nin the module.\\nhttps://\\nhelp.fishbowlinventory.com/\\nadvanced/s/article/PickingPicking an\\norderWithin the\\nPicking module,\\nitems are picked\\nto fulfill order\\ndemand, whether\\nit be a sales\\norder, work\\norder, transfer[]url heading content images\\norder, or\\npurchase order.\\nBy default,\\nFishbowl will\\npick according to\\nthe Pick method\\noption that is\\nselected in the\\nPicking module\\noptions . The\\ndefault picking\\nlocation and\\ntracking\\ninformation can\\nbe changed\\nmanually when an\\nitem is being\\npicked.\\\\nThe\\nFinish column in\\nthe picking\\nsearch pane\\ndisplays how much\\nof an order is\\npickable.\\\\n\\nhttps://\\nhelp.fishbowlinventory.com/\\nadvanced/s/article/PickingPick item\\nstatusTo view Pick\\nDetails , double-\\nclick a pick in\\nthe search pane.\\nListed below are\\nthe various\\nstatuses that may\\nbe assigned to a\\npick item. In the\\nFishbowl Client,\\nhover the mouse\\nover a status\\nicon to verify\\nthe status of the\\nitem. Further\\ninformation\\nregarding how an\\nitem changes from\\none status to\\nanother can be\\nfound in the Pick\\nflow process\\nsection.\\\\nPicking\\na sales\\norder\\\\nSales\\norders, purchase\\norders, transfer\\norders, and work[]url heading content images\\norders can all\\ncreate picks. The\\nprocess for\\npicking inventory\\nfor each of these\\norder types is\\nvery similar. The\\nexample below\\ndemonstrates how\\nto pick inventory\\nfor a sales\\norder.\\\\nTo pick a\\nsales order, open\\nthe Picking\\nmodule , located\\nin the Sales\\nmodule group, and\\ndouble-click the\\nsales order in\\nthe search pane.\\nThe parts waiting\\nto be picked for\\nthe sales order\\nwill appear as\\nline items under\\nPick Details .\\n\\\\n\\\\nEach line\\nitem contains the\\nfollowing fields.\\nIf not all of the\\ndesired fields\\nare visible,\\nright-click a\\ncolumn header to\\nselect which\\ncolumns to show\\nor hide.\\\\nTo\\nbegin the picking\\nprocess, click\\nthe Start button\\non the module\\ntoolbar.\\nIndividual line\\nitems can also be\\nstarted by\\nhighlighting the\\nitem and choosing\\nthe Start button\\nlocated on the\\ncomponent toolbar\\nto the right.\\n\\\\nOnce theurl heading content images\\npicking process\\nhas been started,\\ndepending on the\\nPicking module\\noptions ,\\nFishbowl will\\nprovide the\\noption of\\nprinting the Pick\\nTicket report .\\n\\\\nThe pick\\nlocations and\\ntracking\\ninformation can\\nbe modified at\\nthis point if\\ndesired. After\\nall of the\\nchanges have been\\nmade, click the\\nFinish button on\\nthe module\\ntoolbar. To pick\\nonly individual\\nitems, highlight\\nthe line item and\\nthen click the\\nFinish button on\\nthe component\\ntoolbar to the\\nright.\\\\nOnce the\\norder is picked,\\nit can be shipped\\nby clicking the\\nTo Ship button on\\nthe module\\ntoolbar.\\\\nAn\\norder can also be\\npicked by\\nimporting\\ninformation from\\na spreadsheet .\\nhttps://\\nhelp.fishbowlinventory.com/\\nadvanced/s/article/PickingPut a pick\\nitem on holdPick items can be\\nplaced on hold by\\nhighlighting the\\nline item and\\nthen clicking the\\nHold button that\\nis located on the\\ncomponent toolbar\\nto the right.\\nWhen using the[]url heading content images\\nmodule buttons to\\nstart, commit, or\\nfinish a pick,\\nitems that are on\\nhold will not be\\nmodified.\\\\n\\\\nTo\\nremove the hold\\nstatus, highlight\\nthe line item and\\nthen click the\\nHold button\\nagain.\\nhttps://\\nhelp.fishbowlinventory.com/\\nadvanced/s/article/PickingSplit or\\ncombine a\\npick line\\nitemSometimes it may\\nbe helpful to\\nseparate one line\\nitem into\\nmultiple line\\nitems. To split\\nan item, click\\nthe quantity\\nfield and enter a\\nnew quantity.\\nAfter pressing\\nthe Enter key or\\nclicking outside\\nthe quantity\\nfield, a new line\\nitem will be\\ncreated with the\\nremaining\\nquantity.\\\\n\\\\nTo\\ncombine line\\nitems, highlight\\nthe line items by\\nholding down the\\nCtrl key on the\\nkeyboard while\\nclicking each\\nline item. Then\\nclick the Combine\\nbutton located on\\nthe component\\ntoolbar to the\\nright. Items\\ncannot be\\ncombined if they\\nhave a status of\\nCommitted or\\nFinished .\\\\n[]\\nSelect part\\ntrackingWhen picking an\\nitem with []url heading content images\\nhttps://\\nhelp.fishbowlinventory.com/\\nadvanced/s/article/Pickingtracking , the\\nuser will be\\nprompted to\\nselect the\\ntracking\\ninformation for\\nthe part that is\\nbeing picked.\\n\\\\n\\\\nOnce the\\ninventory has\\nbeen committed,\\nthe tracking can\\nbe edited by\\nhighlighting the\\nline item and\\nthen clicking the\\nEdit Tracking\\nbutton, which is\\nlocated in the\\nTracking section\\nbelow the picking\\nline items.\\nhttps://\\nhelp.fishbowlinventory.com/\\nadvanced/s/article/PickingChange pick\\nlocationThe location\\ngroup for the\\npick will default\\nto the user's\\ndefault location\\ngroup, which can\\nbe changed on the\\nLocation Groups\\ntab of the User\\nmodule . The\\nlocation group\\ncan also be\\nchanged on the\\npick by selecting\\na different\\nlocation group in\\nthe Location\\nGroup field.\\n\\\\n\\\\nTo manually\\nchange the pick\\nlocation of a\\nline item,\\nhighlight the\\nitem and click\\nthe Pick Location\\ndropdown. This\\nmenu will display\\nall of the\\nlocations where\\ninventory is[]url heading content images\\navailable for\\nthis item. Once\\nlocations have\\nbeen changed,\\nclick the Save\\nbutton located on\\nthe module\\ntoolbar.\\\\n\\nhttps://\\nhelp.fishbowlinventory.com/\\nadvanced/s/article/PickingGroup picksOrders may be\\ngrouped together\\nfor picking in\\ntwo different\\nways. To group\\nall of the\\norders, choose\\nthe Group button\\nlocated on the\\nmodule toolbar.\\nThe Group Picks\\nwindow controls\\nwhich orders will\\nbe grouped.\\nOrders may be\\ngrouped according\\nto their\\nscheduled date\\nand the number of\\nitems on the\\norder. The last\\noption controls\\nhow many orders\\nwill be grouped\\ntogether. After\\nselecting the\\nappropriate\\noptions, click OK\\nto group the\\npicks.\\\\n\\\\nTo\\ngroup together\\nspecific orders,\\nhighlight the\\norder numbers in\\nthe search pane\\nof the Picking\\nmodule . To\\nselect multiple\\norders, hold down\\nthe Ctrl key on\\nthe keyboard\\nwhile clicking\\nthe desired\\norders with the[]url heading content images\\nmouse. Once the\\norders have been\\nselected, right-\\nclick any pick\\nand then select\\nGroup from the\\ndropdown. The\\npicks will be\\ngrouped together\\nand will be shown\\nin the search\\npane with a G in\\nfront of the new\\npick number.\\n\\\\n\\\\nEach order in\\na grouped pick\\nwill\\nautomatically be\\nassigned a slot\\non the cart so\\nthat the items\\nfrom different\\norders don't get\\nmixed up.\\nhttps://\\nhelp.fishbowlinventory.com/\\nadvanced/s/article/PickingUngroup picksA pick can be\\nungrouped by\\nright-clicking\\nthe order in the\\nsearch pane and\\nselecting\\nUngroup . A pick\\ncan also be\\nungrouped by\\nhighlighting the\\ndesired pick in\\nthe search pane\\nand then clicking\\nthe Ungroup\\nbutton in the\\nmodule toolbar.\\nSelecting Ungroup\\nfrom the module\\ntoolbar will\\ndisplay the\\nUngroup Picks\\nwindow. This\\nscreen allows the\\npick to be\\nseparated by\\norder,\\nfulfillment date,\\nlocation group,[]url heading content images\\nlocation type,\\npick item status,\\nor order item.\\nAfter selecting\\nthe appropriate\\noptions, click OK\\nto ungroup the\\npick.\\\\n\\nhttps://\\nhelp.fishbowlinventory.com/\\nadvanced/s/article/PickingPick part of\\nan orderDepending on the\\nsituation, there\\nmay be a variety\\nof ways to pick\\nonly a portion of\\nan order. The\\nfirst way, for\\nexample, would be\\nif some items on\\nthe order are out\\nof stock. In this\\ncase, the user\\nwould start and\\nfinish the pick\\nto only fulfill\\nitems in stock.\\nThe pick status\\nwill be set to\\nPartial , and the\\nuser will be able\\nto fulfill the\\nremainder of the\\nitems once\\ninventory is\\navailable.\\\\n\\\\nIf\\nall of the items\\nare in stock, the\\nuser has the\\noption to split\\nitems and/or put\\nitems on hold\\nwhile picking the\\nother items. To\\nhold items,\\nhighlight the\\nline item and\\nchoose the Hold\\nbutton located on\\nthe component\\ntoolbar. The\\norder will be\\npartially\\nfinished when the\\npick is started[]url heading content images\\nand finished. The\\nrest of the order\\nmay be finished\\nat any time.\\\\n\\nhttps://\\nhelp.fishbowlinventory.com/\\nadvanced/s/article/PickingEdit tracking\\ninformationOnce an item has\\nbeen Committed ,\\nthe tracking can\\nbe edited by\\nhighlighting the\\nline item and\\nclicking the Edit\\nTracking button,\\nwhich is located\\nin the Tracking\\nsection below the\\npicking line\\nitems.\\\\n\\\\nThis\\nwill then allow\\nthe user to\\nchoose different\\ntracking\\ninformation. The\\nuser may also\\nvoid the item and\\nthen enter the\\ncorrect tracking\\ninformation when\\nre-picking the\\nitem. Once an\\nitem has been\\nfinished, it must\\nbe voided to\\nmodify the\\ntracking\\ninformation.[]\\nhttps://\\nhelp.fishbowlinventory.com/\\nadvanced/s/article/PickingLocation sort\\norderIn order to make\\nthe picking\\nprocess more\\nintuitive,\\nFishbowl provides\\nthe ability to\\nsort locations in\\nFishbowl just\\nlike they are set\\nup in the\\nwarehouse. This\\nallows the items\\nto be picked in\\nthe same order\\nthey are found in\\nthe warehouse.[]url heading content images\\nFor more\\ninformation, see\\nLocation sort\\norder .\\nhttps://\\nhelp.fishbowlinventory.com/\\nadvanced/s/article/PickingPick flow\\nprocessThe table below\\ndisplays details\\nof how each pick\\nitem status flows\\nthrough the\\npicking process.[]\\nhttps://\\nhelp.fishbowlinventory.com/\\nadvanced/s/article/PickingSearchIn the search\\npane on the left\\nof the module,\\norders can be\\nfiltered by\\nNumber , Order ,\\nOrder type , and\\nStatus . Click\\nthe Advanced\\nSearch button to\\nsearch the Custom\\nFields and the\\nfollowing search\\noptions.\\\\n\\\\nThe\\nGeneral tab\\ncontains nearly\\nall of the\\ninformation about\\nthe pick.\\\\nThe\\nDetails tab\\ndisplays some\\nadditional\\ninformation about\\nthe pick.\\\\nThe\\nMemo tab can be\\nused to add\\ninformation to\\neach pick. The\\nupper pane\\ndisplays the\\nmemos, the date\\nthey were\\ncreated, and the\\nuser who created\\nthem.\\nHighlighting a\\nmemo will display\\nthe details of\\nthe memo in the\\nlower pane.\\\\nThe\\nCustom tab stores[]url heading content images\\nadditional fields\\nfor the pick that\\ncan be customized\\nto fit the needs\\nof each company.\\n\\\\n\\\\nSome aspects\\nof the Picking\\nmodule can be\\ncustomized by\\nopening the\\nmodule, clicking\\nthe Tools menu,\\nand then\\nselecting Module\\nOptions .\\\\n\\nhttps://\\nhelp.fishbowlinventory.com/\\nadvanced/s/article/PickingInformation []\"),\n",
              " Document(metadata={'file_name': 'documents/data/scraped_data_https___help.fishbowlinventory.com_advanced_s_article_Picking.pdf'}, page_content=\"url heading content images\\nhttps://\\nhelp.fishbowlinventory.com/\\nadvanced/s/article/PickingFishbowl\\nAdvanced -\\nPicking[]\\nhttps://\\nhelp.fishbowlinventory.com/\\nadvanced/s/article/PickingDec 17,\\n2024Knowledge[]\\nhttps://\\nhelp.fishbowlinventory.com/\\nadvanced/s/article/PickingArticle\\nDetailsThe Picking\\nmodule, located\\nin the Sales\\ngroup ,\\nfacilitates the\\nprocess of\\npicking (or\\ngathering) items\\nfrom their\\nstorage\\nlocations.\\nTypically, after\\nan item has been\\npicked, it will\\nbe ready to be\\npacked and\\nshipped in the\\nShipping module .\\nFishbowl will\\nalso create picks\\nwhen inventory\\nneeds to be\\ngathered for a\\nwork order, a\\ntransfer order,\\nor a credit\\nreturn purchase\\norder.[]\\nhttps://\\nhelp.fishbowlinventory.com/\\nadvanced/s/article/PickingContents []\\nhttps://\\nhelp.fishbowlinventory.com/\\nadvanced/s/article/PickingModule\\nbuttonsStart changes the\\npick to a Started\\nstatus .\\\\nSave\\nsaves any changes\\nmade to the pick.\\n\\\\nFinish finishes\\nany pick items\\nthat are ready\\nand changes the\\npick to Finished\\nif all items have\\nbeen finished .\\n\\\\nVoid uncommits[]url heading content images\\nthe pick items\\nand returns the\\npick to an\\nEntered status .\\n\\\\nCommit commits\\nany pick items\\nthat are ready\\nand changes the\\npick to a\\nCommitted\\nstatus .\\\\nGroup\\ngroups multiple\\npicks together to\\nbe picked at the\\nsame time .\\n\\\\nUngroup\\nseparates a\\ngrouped pick into\\nmultiple picks .\\n\\\\nTo Ship opens\\nthe current pick\\nin the Shipping\\nmodule .\\\\nEmail\\nopens a window to\\ncompose an email.\\nIf the module's\\ndefault report is\\nspecified, the\\nPDF report will\\nbe attached.\\nEmail can be\\nconfigured on the\\nEmail tab of the\\nSettings module .\\n\\\\nPrint sends the\\ndefault module\\nreport to the\\nprinter.\\\\nHow To\\nopens this\\narticle in a web\\nbrowser.\\\\nRefresh\\nreloads whatever\\nis currently open\\nin the module.\\nhttps://\\nhelp.fishbowlinventory.com/\\nadvanced/s/article/PickingPicking an\\norderWithin the\\nPicking module,\\nitems are picked\\nto fulfill order\\ndemand, whether\\nit be a sales\\norder, work\\norder, transfer[]url heading content images\\norder, or\\npurchase order.\\nBy default,\\nFishbowl will\\npick according to\\nthe Pick method\\noption that is\\nselected in the\\nPicking module\\noptions . The\\ndefault picking\\nlocation and\\ntracking\\ninformation can\\nbe changed\\nmanually when an\\nitem is being\\npicked.\\\\nThe\\nFinish column in\\nthe picking\\nsearch pane\\ndisplays how much\\nof an order is\\npickable.\\\\n\\nhttps://\\nhelp.fishbowlinventory.com/\\nadvanced/s/article/PickingPick item\\nstatusTo view Pick\\nDetails , double-\\nclick a pick in\\nthe search pane.\\nListed below are\\nthe various\\nstatuses that may\\nbe assigned to a\\npick item. In the\\nFishbowl Client,\\nhover the mouse\\nover a status\\nicon to verify\\nthe status of the\\nitem. Further\\ninformation\\nregarding how an\\nitem changes from\\none status to\\nanother can be\\nfound in the Pick\\nflow process\\nsection.\\\\nPicking\\na sales\\norder\\\\nSales\\norders, purchase\\norders, transfer\\norders, and work[]url heading content images\\norders can all\\ncreate picks. The\\nprocess for\\npicking inventory\\nfor each of these\\norder types is\\nvery similar. The\\nexample below\\ndemonstrates how\\nto pick inventory\\nfor a sales\\norder.\\\\nTo pick a\\nsales order, open\\nthe Picking\\nmodule , located\\nin the Sales\\nmodule group, and\\ndouble-click the\\nsales order in\\nthe search pane.\\nThe parts waiting\\nto be picked for\\nthe sales order\\nwill appear as\\nline items under\\nPick Details .\\n\\\\n\\\\nEach line\\nitem contains the\\nfollowing fields.\\nIf not all of the\\ndesired fields\\nare visible,\\nright-click a\\ncolumn header to\\nselect which\\ncolumns to show\\nor hide.\\\\nTo\\nbegin the picking\\nprocess, click\\nthe Start button\\non the module\\ntoolbar.\\nIndividual line\\nitems can also be\\nstarted by\\nhighlighting the\\nitem and choosing\\nthe Start button\\nlocated on the\\ncomponent toolbar\\nto the right.\\n\\\\nOnce theurl heading content images\\npicking process\\nhas been started,\\ndepending on the\\nPicking module\\noptions ,\\nFishbowl will\\nprovide the\\noption of\\nprinting the Pick\\nTicket report .\\n\\\\nThe pick\\nlocations and\\ntracking\\ninformation can\\nbe modified at\\nthis point if\\ndesired. After\\nall of the\\nchanges have been\\nmade, click the\\nFinish button on\\nthe module\\ntoolbar. To pick\\nonly individual\\nitems, highlight\\nthe line item and\\nthen click the\\nFinish button on\\nthe component\\ntoolbar to the\\nright.\\\\nOnce the\\norder is picked,\\nit can be shipped\\nby clicking the\\nTo Ship button on\\nthe module\\ntoolbar.\\\\nAn\\norder can also be\\npicked by\\nimporting\\ninformation from\\na spreadsheet .\\nhttps://\\nhelp.fishbowlinventory.com/\\nadvanced/s/article/PickingPut a pick\\nitem on holdPick items can be\\nplaced on hold by\\nhighlighting the\\nline item and\\nthen clicking the\\nHold button that\\nis located on the\\ncomponent toolbar\\nto the right.\\nWhen using the[]url heading content images\\nmodule buttons to\\nstart, commit, or\\nfinish a pick,\\nitems that are on\\nhold will not be\\nmodified.\\\\n\\\\nTo\\nremove the hold\\nstatus, highlight\\nthe line item and\\nthen click the\\nHold button\\nagain.\\nhttps://\\nhelp.fishbowlinventory.com/\\nadvanced/s/article/PickingSplit or\\ncombine a\\npick line\\nitemSometimes it may\\nbe helpful to\\nseparate one line\\nitem into\\nmultiple line\\nitems. To split\\nan item, click\\nthe quantity\\nfield and enter a\\nnew quantity.\\nAfter pressing\\nthe Enter key or\\nclicking outside\\nthe quantity\\nfield, a new line\\nitem will be\\ncreated with the\\nremaining\\nquantity.\\\\n\\\\nTo\\ncombine line\\nitems, highlight\\nthe line items by\\nholding down the\\nCtrl key on the\\nkeyboard while\\nclicking each\\nline item. Then\\nclick the Combine\\nbutton located on\\nthe component\\ntoolbar to the\\nright. Items\\ncannot be\\ncombined if they\\nhave a status of\\nCommitted or\\nFinished .\\\\n[]\\nSelect part\\ntrackingWhen picking an\\nitem with []url heading content images\\nhttps://\\nhelp.fishbowlinventory.com/\\nadvanced/s/article/Pickingtracking , the\\nuser will be\\nprompted to\\nselect the\\ntracking\\ninformation for\\nthe part that is\\nbeing picked.\\n\\\\n\\\\nOnce the\\ninventory has\\nbeen committed,\\nthe tracking can\\nbe edited by\\nhighlighting the\\nline item and\\nthen clicking the\\nEdit Tracking\\nbutton, which is\\nlocated in the\\nTracking section\\nbelow the picking\\nline items.\\nhttps://\\nhelp.fishbowlinventory.com/\\nadvanced/s/article/PickingChange pick\\nlocationThe location\\ngroup for the\\npick will default\\nto the user's\\ndefault location\\ngroup, which can\\nbe changed on the\\nLocation Groups\\ntab of the User\\nmodule . The\\nlocation group\\ncan also be\\nchanged on the\\npick by selecting\\na different\\nlocation group in\\nthe Location\\nGroup field.\\n\\\\n\\\\nTo manually\\nchange the pick\\nlocation of a\\nline item,\\nhighlight the\\nitem and click\\nthe Pick Location\\ndropdown. This\\nmenu will display\\nall of the\\nlocations where\\ninventory is[]url heading content images\\navailable for\\nthis item. Once\\nlocations have\\nbeen changed,\\nclick the Save\\nbutton located on\\nthe module\\ntoolbar.\\\\n\\nhttps://\\nhelp.fishbowlinventory.com/\\nadvanced/s/article/PickingGroup picksOrders may be\\ngrouped together\\nfor picking in\\ntwo different\\nways. To group\\nall of the\\norders, choose\\nthe Group button\\nlocated on the\\nmodule toolbar.\\nThe Group Picks\\nwindow controls\\nwhich orders will\\nbe grouped.\\nOrders may be\\ngrouped according\\nto their\\nscheduled date\\nand the number of\\nitems on the\\norder. The last\\noption controls\\nhow many orders\\nwill be grouped\\ntogether. After\\nselecting the\\nappropriate\\noptions, click OK\\nto group the\\npicks.\\\\n\\\\nTo\\ngroup together\\nspecific orders,\\nhighlight the\\norder numbers in\\nthe search pane\\nof the Picking\\nmodule . To\\nselect multiple\\norders, hold down\\nthe Ctrl key on\\nthe keyboard\\nwhile clicking\\nthe desired\\norders with the[]url heading content images\\nmouse. Once the\\norders have been\\nselected, right-\\nclick any pick\\nand then select\\nGroup from the\\ndropdown. The\\npicks will be\\ngrouped together\\nand will be shown\\nin the search\\npane with a G in\\nfront of the new\\npick number.\\n\\\\n\\\\nEach order in\\na grouped pick\\nwill\\nautomatically be\\nassigned a slot\\non the cart so\\nthat the items\\nfrom different\\norders don't get\\nmixed up.\\nhttps://\\nhelp.fishbowlinventory.com/\\nadvanced/s/article/PickingUngroup picksA pick can be\\nungrouped by\\nright-clicking\\nthe order in the\\nsearch pane and\\nselecting\\nUngroup . A pick\\ncan also be\\nungrouped by\\nhighlighting the\\ndesired pick in\\nthe search pane\\nand then clicking\\nthe Ungroup\\nbutton in the\\nmodule toolbar.\\nSelecting Ungroup\\nfrom the module\\ntoolbar will\\ndisplay the\\nUngroup Picks\\nwindow. This\\nscreen allows the\\npick to be\\nseparated by\\norder,\\nfulfillment date,\\nlocation group,[]url heading content images\\nlocation type,\\npick item status,\\nor order item.\\nAfter selecting\\nthe appropriate\\noptions, click OK\\nto ungroup the\\npick.\\\\n\\nhttps://\\nhelp.fishbowlinventory.com/\\nadvanced/s/article/PickingPick part of\\nan orderDepending on the\\nsituation, there\\nmay be a variety\\nof ways to pick\\nonly a portion of\\nan order. The\\nfirst way, for\\nexample, would be\\nif some items on\\nthe order are out\\nof stock. In this\\ncase, the user\\nwould start and\\nfinish the pick\\nto only fulfill\\nitems in stock.\\nThe pick status\\nwill be set to\\nPartial , and the\\nuser will be able\\nto fulfill the\\nremainder of the\\nitems once\\ninventory is\\navailable.\\\\n\\\\nIf\\nall of the items\\nare in stock, the\\nuser has the\\noption to split\\nitems and/or put\\nitems on hold\\nwhile picking the\\nother items. To\\nhold items,\\nhighlight the\\nline item and\\nchoose the Hold\\nbutton located on\\nthe component\\ntoolbar. The\\norder will be\\npartially\\nfinished when the\\npick is started[]url heading content images\\nand finished. The\\nrest of the order\\nmay be finished\\nat any time.\\\\n\\nhttps://\\nhelp.fishbowlinventory.com/\\nadvanced/s/article/PickingEdit tracking\\ninformationOnce an item has\\nbeen Committed ,\\nthe tracking can\\nbe edited by\\nhighlighting the\\nline item and\\nclicking the Edit\\nTracking button,\\nwhich is located\\nin the Tracking\\nsection below the\\npicking line\\nitems.\\\\n\\\\nThis\\nwill then allow\\nthe user to\\nchoose different\\ntracking\\ninformation. The\\nuser may also\\nvoid the item and\\nthen enter the\\ncorrect tracking\\ninformation when\\nre-picking the\\nitem. Once an\\nitem has been\\nfinished, it must\\nbe voided to\\nmodify the\\ntracking\\ninformation.[]\\nhttps://\\nhelp.fishbowlinventory.com/\\nadvanced/s/article/PickingLocation sort\\norderIn order to make\\nthe picking\\nprocess more\\nintuitive,\\nFishbowl provides\\nthe ability to\\nsort locations in\\nFishbowl just\\nlike they are set\\nup in the\\nwarehouse. This\\nallows the items\\nto be picked in\\nthe same order\\nthey are found in\\nthe warehouse.[]url heading content images\\nFor more\\ninformation, see\\nLocation sort\\norder .\\nhttps://\\nhelp.fishbowlinventory.com/\\nadvanced/s/article/PickingPick flow\\nprocessThe table below\\ndisplays details\\nof how each pick\\nitem status flows\\nthrough the\\npicking process.[]\\nhttps://\\nhelp.fishbowlinventory.com/\\nadvanced/s/article/PickingSearchIn the search\\npane on the left\\nof the module,\\norders can be\\nfiltered by\\nNumber , Order ,\\nOrder type , and\\nStatus . Click\\nthe Advanced\\nSearch button to\\nsearch the Custom\\nFields and the\\nfollowing search\\noptions.\\\\n\\\\nThe\\nGeneral tab\\ncontains nearly\\nall of the\\ninformation about\\nthe pick.\\\\nThe\\nDetails tab\\ndisplays some\\nadditional\\ninformation about\\nthe pick.\\\\nThe\\nMemo tab can be\\nused to add\\ninformation to\\neach pick. The\\nupper pane\\ndisplays the\\nmemos, the date\\nthey were\\ncreated, and the\\nuser who created\\nthem.\\nHighlighting a\\nmemo will display\\nthe details of\\nthe memo in the\\nlower pane.\\\\nThe\\nCustom tab stores[]url heading content images\\nadditional fields\\nfor the pick that\\ncan be customized\\nto fit the needs\\nof each company.\\n\\\\n\\\\nSome aspects\\nof the Picking\\nmodule can be\\ncustomized by\\nopening the\\nmodule, clicking\\nthe Tools menu,\\nand then\\nselecting Module\\nOptions .\\\\n\\nhttps://\\nhelp.fishbowlinventory.com/\\nadvanced/s/article/PickingInformation []\"),\n",
              " Document(metadata={'file_name': 'documents/data/scraped_data_https___help.fishbowlinventory.com_advanced_s_article_Picking.pdf'}, page_content=\"url heading content images\\nhttps://\\nhelp.fishbowlinventory.com/\\nadvanced/s/article/PickingFishbowl\\nAdvanced -\\nPicking[]\\nhttps://\\nhelp.fishbowlinventory.com/\\nadvanced/s/article/PickingDec 17,\\n2024Knowledge[]\\nhttps://\\nhelp.fishbowlinventory.com/\\nadvanced/s/article/PickingArticle\\nDetailsThe Picking\\nmodule, located\\nin the Sales\\ngroup ,\\nfacilitates the\\nprocess of\\npicking (or\\ngathering) items\\nfrom their\\nstorage\\nlocations.\\nTypically, after\\nan item has been\\npicked, it will\\nbe ready to be\\npacked and\\nshipped in the\\nShipping module .\\nFishbowl will\\nalso create picks\\nwhen inventory\\nneeds to be\\ngathered for a\\nwork order, a\\ntransfer order,\\nor a credit\\nreturn purchase\\norder.[]\\nhttps://\\nhelp.fishbowlinventory.com/\\nadvanced/s/article/PickingContents []\\nhttps://\\nhelp.fishbowlinventory.com/\\nadvanced/s/article/PickingModule\\nbuttonsStart changes the\\npick to a Started\\nstatus .\\\\nSave\\nsaves any changes\\nmade to the pick.\\n\\\\nFinish finishes\\nany pick items\\nthat are ready\\nand changes the\\npick to Finished\\nif all items have\\nbeen finished .\\n\\\\nVoid uncommits[]url heading content images\\nthe pick items\\nand returns the\\npick to an\\nEntered status .\\n\\\\nCommit commits\\nany pick items\\nthat are ready\\nand changes the\\npick to a\\nCommitted\\nstatus .\\\\nGroup\\ngroups multiple\\npicks together to\\nbe picked at the\\nsame time .\\n\\\\nUngroup\\nseparates a\\ngrouped pick into\\nmultiple picks .\\n\\\\nTo Ship opens\\nthe current pick\\nin the Shipping\\nmodule .\\\\nEmail\\nopens a window to\\ncompose an email.\\nIf the module's\\ndefault report is\\nspecified, the\\nPDF report will\\nbe attached.\\nEmail can be\\nconfigured on the\\nEmail tab of the\\nSettings module .\\n\\\\nPrint sends the\\ndefault module\\nreport to the\\nprinter.\\\\nHow To\\nopens this\\narticle in a web\\nbrowser.\\\\nRefresh\\nreloads whatever\\nis currently open\\nin the module.\\nhttps://\\nhelp.fishbowlinventory.com/\\nadvanced/s/article/PickingPicking an\\norderWithin the\\nPicking module,\\nitems are picked\\nto fulfill order\\ndemand, whether\\nit be a sales\\norder, work\\norder, transfer[]url heading content images\\norder, or\\npurchase order.\\nBy default,\\nFishbowl will\\npick according to\\nthe Pick method\\noption that is\\nselected in the\\nPicking module\\noptions . The\\ndefault picking\\nlocation and\\ntracking\\ninformation can\\nbe changed\\nmanually when an\\nitem is being\\npicked.\\\\nThe\\nFinish column in\\nthe picking\\nsearch pane\\ndisplays how much\\nof an order is\\npickable.\\\\n\\nhttps://\\nhelp.fishbowlinventory.com/\\nadvanced/s/article/PickingPick item\\nstatusTo view Pick\\nDetails , double-\\nclick a pick in\\nthe search pane.\\nListed below are\\nthe various\\nstatuses that may\\nbe assigned to a\\npick item. In the\\nFishbowl Client,\\nhover the mouse\\nover a status\\nicon to verify\\nthe status of the\\nitem. Further\\ninformation\\nregarding how an\\nitem changes from\\none status to\\nanother can be\\nfound in the Pick\\nflow process\\nsection.\\\\nPicking\\na sales\\norder\\\\nSales\\norders, purchase\\norders, transfer\\norders, and work[]url heading content images\\norders can all\\ncreate picks. The\\nprocess for\\npicking inventory\\nfor each of these\\norder types is\\nvery similar. The\\nexample below\\ndemonstrates how\\nto pick inventory\\nfor a sales\\norder.\\\\nTo pick a\\nsales order, open\\nthe Picking\\nmodule , located\\nin the Sales\\nmodule group, and\\ndouble-click the\\nsales order in\\nthe search pane.\\nThe parts waiting\\nto be picked for\\nthe sales order\\nwill appear as\\nline items under\\nPick Details .\\n\\\\n\\\\nEach line\\nitem contains the\\nfollowing fields.\\nIf not all of the\\ndesired fields\\nare visible,\\nright-click a\\ncolumn header to\\nselect which\\ncolumns to show\\nor hide.\\\\nTo\\nbegin the picking\\nprocess, click\\nthe Start button\\non the module\\ntoolbar.\\nIndividual line\\nitems can also be\\nstarted by\\nhighlighting the\\nitem and choosing\\nthe Start button\\nlocated on the\\ncomponent toolbar\\nto the right.\\n\\\\nOnce theurl heading content images\\npicking process\\nhas been started,\\ndepending on the\\nPicking module\\noptions ,\\nFishbowl will\\nprovide the\\noption of\\nprinting the Pick\\nTicket report .\\n\\\\nThe pick\\nlocations and\\ntracking\\ninformation can\\nbe modified at\\nthis point if\\ndesired. After\\nall of the\\nchanges have been\\nmade, click the\\nFinish button on\\nthe module\\ntoolbar. To pick\\nonly individual\\nitems, highlight\\nthe line item and\\nthen click the\\nFinish button on\\nthe component\\ntoolbar to the\\nright.\\\\nOnce the\\norder is picked,\\nit can be shipped\\nby clicking the\\nTo Ship button on\\nthe module\\ntoolbar.\\\\nAn\\norder can also be\\npicked by\\nimporting\\ninformation from\\na spreadsheet .\\nhttps://\\nhelp.fishbowlinventory.com/\\nadvanced/s/article/PickingPut a pick\\nitem on holdPick items can be\\nplaced on hold by\\nhighlighting the\\nline item and\\nthen clicking the\\nHold button that\\nis located on the\\ncomponent toolbar\\nto the right.\\nWhen using the[]url heading content images\\nmodule buttons to\\nstart, commit, or\\nfinish a pick,\\nitems that are on\\nhold will not be\\nmodified.\\\\n\\\\nTo\\nremove the hold\\nstatus, highlight\\nthe line item and\\nthen click the\\nHold button\\nagain.\\nhttps://\\nhelp.fishbowlinventory.com/\\nadvanced/s/article/PickingSplit or\\ncombine a\\npick line\\nitemSometimes it may\\nbe helpful to\\nseparate one line\\nitem into\\nmultiple line\\nitems. To split\\nan item, click\\nthe quantity\\nfield and enter a\\nnew quantity.\\nAfter pressing\\nthe Enter key or\\nclicking outside\\nthe quantity\\nfield, a new line\\nitem will be\\ncreated with the\\nremaining\\nquantity.\\\\n\\\\nTo\\ncombine line\\nitems, highlight\\nthe line items by\\nholding down the\\nCtrl key on the\\nkeyboard while\\nclicking each\\nline item. Then\\nclick the Combine\\nbutton located on\\nthe component\\ntoolbar to the\\nright. Items\\ncannot be\\ncombined if they\\nhave a status of\\nCommitted or\\nFinished .\\\\n[]\\nSelect part\\ntrackingWhen picking an\\nitem with []url heading content images\\nhttps://\\nhelp.fishbowlinventory.com/\\nadvanced/s/article/Pickingtracking , the\\nuser will be\\nprompted to\\nselect the\\ntracking\\ninformation for\\nthe part that is\\nbeing picked.\\n\\\\n\\\\nOnce the\\ninventory has\\nbeen committed,\\nthe tracking can\\nbe edited by\\nhighlighting the\\nline item and\\nthen clicking the\\nEdit Tracking\\nbutton, which is\\nlocated in the\\nTracking section\\nbelow the picking\\nline items.\\nhttps://\\nhelp.fishbowlinventory.com/\\nadvanced/s/article/PickingChange pick\\nlocationThe location\\ngroup for the\\npick will default\\nto the user's\\ndefault location\\ngroup, which can\\nbe changed on the\\nLocation Groups\\ntab of the User\\nmodule . The\\nlocation group\\ncan also be\\nchanged on the\\npick by selecting\\na different\\nlocation group in\\nthe Location\\nGroup field.\\n\\\\n\\\\nTo manually\\nchange the pick\\nlocation of a\\nline item,\\nhighlight the\\nitem and click\\nthe Pick Location\\ndropdown. This\\nmenu will display\\nall of the\\nlocations where\\ninventory is[]url heading content images\\navailable for\\nthis item. Once\\nlocations have\\nbeen changed,\\nclick the Save\\nbutton located on\\nthe module\\ntoolbar.\\\\n\\nhttps://\\nhelp.fishbowlinventory.com/\\nadvanced/s/article/PickingGroup picksOrders may be\\ngrouped together\\nfor picking in\\ntwo different\\nways. To group\\nall of the\\norders, choose\\nthe Group button\\nlocated on the\\nmodule toolbar.\\nThe Group Picks\\nwindow controls\\nwhich orders will\\nbe grouped.\\nOrders may be\\ngrouped according\\nto their\\nscheduled date\\nand the number of\\nitems on the\\norder. The last\\noption controls\\nhow many orders\\nwill be grouped\\ntogether. After\\nselecting the\\nappropriate\\noptions, click OK\\nto group the\\npicks.\\\\n\\\\nTo\\ngroup together\\nspecific orders,\\nhighlight the\\norder numbers in\\nthe search pane\\nof the Picking\\nmodule . To\\nselect multiple\\norders, hold down\\nthe Ctrl key on\\nthe keyboard\\nwhile clicking\\nthe desired\\norders with the[]url heading content images\\nmouse. Once the\\norders have been\\nselected, right-\\nclick any pick\\nand then select\\nGroup from the\\ndropdown. The\\npicks will be\\ngrouped together\\nand will be shown\\nin the search\\npane with a G in\\nfront of the new\\npick number.\\n\\\\n\\\\nEach order in\\na grouped pick\\nwill\\nautomatically be\\nassigned a slot\\non the cart so\\nthat the items\\nfrom different\\norders don't get\\nmixed up.\\nhttps://\\nhelp.fishbowlinventory.com/\\nadvanced/s/article/PickingUngroup picksA pick can be\\nungrouped by\\nright-clicking\\nthe order in the\\nsearch pane and\\nselecting\\nUngroup . A pick\\ncan also be\\nungrouped by\\nhighlighting the\\ndesired pick in\\nthe search pane\\nand then clicking\\nthe Ungroup\\nbutton in the\\nmodule toolbar.\\nSelecting Ungroup\\nfrom the module\\ntoolbar will\\ndisplay the\\nUngroup Picks\\nwindow. This\\nscreen allows the\\npick to be\\nseparated by\\norder,\\nfulfillment date,\\nlocation group,[]url heading content images\\nlocation type,\\npick item status,\\nor order item.\\nAfter selecting\\nthe appropriate\\noptions, click OK\\nto ungroup the\\npick.\\\\n\\nhttps://\\nhelp.fishbowlinventory.com/\\nadvanced/s/article/PickingPick part of\\nan orderDepending on the\\nsituation, there\\nmay be a variety\\nof ways to pick\\nonly a portion of\\nan order. The\\nfirst way, for\\nexample, would be\\nif some items on\\nthe order are out\\nof stock. In this\\ncase, the user\\nwould start and\\nfinish the pick\\nto only fulfill\\nitems in stock.\\nThe pick status\\nwill be set to\\nPartial , and the\\nuser will be able\\nto fulfill the\\nremainder of the\\nitems once\\ninventory is\\navailable.\\\\n\\\\nIf\\nall of the items\\nare in stock, the\\nuser has the\\noption to split\\nitems and/or put\\nitems on hold\\nwhile picking the\\nother items. To\\nhold items,\\nhighlight the\\nline item and\\nchoose the Hold\\nbutton located on\\nthe component\\ntoolbar. The\\norder will be\\npartially\\nfinished when the\\npick is started[]url heading content images\\nand finished. The\\nrest of the order\\nmay be finished\\nat any time.\\\\n\\nhttps://\\nhelp.fishbowlinventory.com/\\nadvanced/s/article/PickingEdit tracking\\ninformationOnce an item has\\nbeen Committed ,\\nthe tracking can\\nbe edited by\\nhighlighting the\\nline item and\\nclicking the Edit\\nTracking button,\\nwhich is located\\nin the Tracking\\nsection below the\\npicking line\\nitems.\\\\n\\\\nThis\\nwill then allow\\nthe user to\\nchoose different\\ntracking\\ninformation. The\\nuser may also\\nvoid the item and\\nthen enter the\\ncorrect tracking\\ninformation when\\nre-picking the\\nitem. Once an\\nitem has been\\nfinished, it must\\nbe voided to\\nmodify the\\ntracking\\ninformation.[]\\nhttps://\\nhelp.fishbowlinventory.com/\\nadvanced/s/article/PickingLocation sort\\norderIn order to make\\nthe picking\\nprocess more\\nintuitive,\\nFishbowl provides\\nthe ability to\\nsort locations in\\nFishbowl just\\nlike they are set\\nup in the\\nwarehouse. This\\nallows the items\\nto be picked in\\nthe same order\\nthey are found in\\nthe warehouse.[]url heading content images\\nFor more\\ninformation, see\\nLocation sort\\norder .\\nhttps://\\nhelp.fishbowlinventory.com/\\nadvanced/s/article/PickingPick flow\\nprocessThe table below\\ndisplays details\\nof how each pick\\nitem status flows\\nthrough the\\npicking process.[]\\nhttps://\\nhelp.fishbowlinventory.com/\\nadvanced/s/article/PickingSearchIn the search\\npane on the left\\nof the module,\\norders can be\\nfiltered by\\nNumber , Order ,\\nOrder type , and\\nStatus . Click\\nthe Advanced\\nSearch button to\\nsearch the Custom\\nFields and the\\nfollowing search\\noptions.\\\\n\\\\nThe\\nGeneral tab\\ncontains nearly\\nall of the\\ninformation about\\nthe pick.\\\\nThe\\nDetails tab\\ndisplays some\\nadditional\\ninformation about\\nthe pick.\\\\nThe\\nMemo tab can be\\nused to add\\ninformation to\\neach pick. The\\nupper pane\\ndisplays the\\nmemos, the date\\nthey were\\ncreated, and the\\nuser who created\\nthem.\\nHighlighting a\\nmemo will display\\nthe details of\\nthe memo in the\\nlower pane.\\\\nThe\\nCustom tab stores[]url heading content images\\nadditional fields\\nfor the pick that\\ncan be customized\\nto fit the needs\\nof each company.\\n\\\\n\\\\nSome aspects\\nof the Picking\\nmodule can be\\ncustomized by\\nopening the\\nmodule, clicking\\nthe Tools menu,\\nand then\\nselecting Module\\nOptions .\\\\n\\nhttps://\\nhelp.fishbowlinventory.com/\\nadvanced/s/article/PickingInformation []\")]"
            ]
          },
          "metadata": {},
          "execution_count": 20
        }
      ],
      "source": [
        "vector_store.similarity_search(\"What is picking?, k=2\")"
      ]
    },
    {
      "cell_type": "code",
      "execution_count": 21,
      "metadata": {
        "id": "F_H4jrUdDReZ"
      },
      "outputs": [],
      "source": [
        "class LLMHandler:\n",
        "    def __init__(self, model_name=\"gemini-2.5-pro-exp-03-25\", max_output_tokens=8192, temperature=0.2, top_p=0.8, top_k=40, verbose=True):\n",
        "        self.llm = VertexAI(\n",
        "            model_name=model_name,\n",
        "            max_output_tokens=max_output_tokens,\n",
        "            temperature=temperature,\n",
        "            top_p=top_p,\n",
        "            top_k=top_k,\n",
        "            verbose=verbose,\n",
        "        )"
      ]
    },
    {
      "cell_type": "code",
      "execution_count": 22,
      "metadata": {
        "id": "kJLfGAq7DZMS"
      },
      "outputs": [],
      "source": [
        "class RetrieverHandler:\n",
        "    def __init__(self, vector_db, num_results=10, search_distance_threshold=0.6):\n",
        "        self.vector_db = vector_db\n",
        "        self.num_results = num_results\n",
        "        self.search_distance_threshold = search_distance_threshold\n",
        "        self.retriever = self.vector_db.as_retriever(\n",
        "            search_type=\"similarity\",\n",
        "            search_kwargs={\n",
        "                \"k\": self.num_results,\n",
        "                \"search_distance\": self.search_distance_threshold,\n",
        "            },\n",
        "            filters=None,\n",
        "        )"
      ]
    },
    {
      "cell_type": "code",
      "execution_count": 23,
      "metadata": {
        "id": "yO0D1iEKDciz"
      },
      "outputs": [],
      "source": [
        "class QAChainHandler:\n",
        "    def __init__(self, llm_handler, retriever_handler, template, verbose=False):\n",
        "        self.qa = RetrievalQA.from_chain_type(\n",
        "            llm=llm_handler.llm,\n",
        "            chain_type=\"stuff\",\n",
        "            retriever=retriever_handler.retriever,\n",
        "            return_source_documents=False,\n",
        "            verbose=verbose,\n",
        "            chain_type_kwargs={\n",
        "                \"prompt\": PromptTemplate(\n",
        "                    template=template,\n",
        "                    input_variables=[\"context\", \"question\"],\n",
        "                ),\n",
        "            },\n",
        "        )\n",
        "        if verbose:\n",
        "            self.qa.combine_documents_chain.verbose = True\n",
        "            self.qa.combine_documents_chain.llm_chain.verbose = True\n",
        "            self.qa.combine_documents_chain.llm_chain.llm.verbose = True"
      ]
    },
    {
      "cell_type": "code",
      "execution_count": 24,
      "metadata": {
        "id": "u8H035wODf9h"
      },
      "outputs": [],
      "source": [
        "class OutputFormatter:\n",
        "    @staticmethod\n",
        "    def format_result(result):\n",
        "        print(f\"Query: {result['query']}\")\n",
        "        print(\"-\" * 80)\n",
        "        if \"source_documents\" in result.keys():\n",
        "            for idx, ref in enumerate(result[\"source_documents\"]):\n",
        "                print(\"*\" * 80)\n",
        "                print(f\"REFERENCE #{idx}\")\n",
        "                print(\"*\" * 80)\n",
        "                if \"score\" in ref.metadata:\n",
        "                    print(f\"Matching Score: {ref.metadata['score']}\")\n",
        "                if \"source\" in ref.metadata:\n",
        "                    print(f\"Document Source: {ref.metadata['source']}\")\n",
        "                if \"document_name\" in ref.metadata:\n",
        "                    print(f\"Document Name: {ref.metadata['document_name']}\")\n",
        "                print(\"*\" * 80)\n",
        "                print(f\"Content: \\n{OutputFormatter.wrap(ref.page_content)}\")\n",
        "                print(\"*\" * 80)\n",
        "        print(f\"Response: {OutputFormatter.wrap(result['result'])}\")\n",
        "        print(\"-\" * 80)\n",
        "\n",
        "    @staticmethod\n",
        "    def wrap(s):\n",
        "        return \"\\n\".join(textwrap.wrap(s, width=120, break_long_words=False))"
      ]
    },
    {
      "cell_type": "code",
      "execution_count": 25,
      "metadata": {
        "id": "0zR4baU-DjH-"
      },
      "outputs": [],
      "source": [
        "def ask(query, qa_handler, num_results=10, search_distance=0.6, filters={}):\n",
        "    qa_handler.qa.retriever.search_kwargs[\"search_distance\"] = search_distance\n",
        "    qa_handler.qa.retriever.search_kwargs[\"k\"] = num_results\n",
        "    qa_handler.qa.retriever.search_kwargs[\"filters\"] = filters\n",
        "    result = qa_handler.qa({\"query\": query})\n",
        "    OutputFormatter.format_result(result)"
      ]
    },
    {
      "cell_type": "code",
      "execution_count": 26,
      "metadata": {
        "id": "D7titxmbAKEu"
      },
      "outputs": [],
      "source": [
        "template = \"\"\"\n",
        "SYSTEM: You are an intelligent assistant helping the users with a new inventory management software called Fishbowl\n",
        "\n",
        "Question: {question}\n",
        "\n",
        "Strictly Use ONLY the following pieces of context to answer the question at the end. Think step-by-step and then answer.\n",
        "\n",
        "Do not try to make up an answer:\n",
        "- If the answer to the question cannot be determined from the context alone, say \"I cannot determine the answer to that.\"\n",
        "- If the context is empty, just say \"I do not know the answer to that.\"\n",
        "=========\n",
        "{context}\n",
        "=========\n",
        "Question: {question}\n",
        "Helpful Answer:\"\"\""
      ]
    },
    {
      "cell_type": "code",
      "execution_count": 27,
      "metadata": {
        "id": "z-1lPSp5DllO"
      },
      "outputs": [],
      "source": [
        "# The responses are long because verbosity is set to True by default. When you initialize the llm_handler, you can\n",
        "# set it to false. On the QAChainHandler class, you'll have to set the return_source_documents=False\n",
        "\n",
        "# LLMHandler(\n",
        "    # model_name=\"gemini-2.5-pro-exp-03-25\",\n",
        "    # max_output_tokens=8192,\n",
        "    # temperature=0.2,\n",
        "    # top_p=0.8,\n",
        "    # top_k=40,\n",
        "    # verbose=True <------\n",
        "    # )\n",
        "\n",
        "\n",
        "\n",
        "llm_handler = LLMHandler(verbose=False) # <----- Change it here\n",
        "retriever_handler = RetrieverHandler(vector_store)\n",
        "qa_handler = QAChainHandler(llm_handler, retriever_handler, template, verbose=False) # <----- Change it here also"
      ]
    },
    {
      "cell_type": "code",
      "execution_count": 28,
      "metadata": {
        "id": "zjwXXKReD8Hl",
        "colab": {
          "base_uri": "https://localhost:8080/"
        },
        "outputId": "528cd6c7-3c3b-4ec7-9209-eb7dfed6850d"
      },
      "outputs": [
        {
          "output_type": "stream",
          "name": "stderr",
          "text": [
            "<ipython-input-25-ff939536cdf2>:5: LangChainDeprecationWarning: The method `Chain.__call__` was deprecated in langchain 0.1.0 and will be removed in 1.0. Use :meth:`~invoke` instead.\n",
            "  result = qa_handler.qa({\"query\": query})\n"
          ]
        },
        {
          "output_type": "stream",
          "name": "stdout",
          "text": [
            "Query: What is the meaning of life?\n",
            "--------------------------------------------------------------------------------\n",
            "Response: I cannot determine the answer to that.\n",
            "--------------------------------------------------------------------------------\n"
          ]
        }
      ],
      "source": [
        "# Ask a question, This one is intended to fail. You should get a response \"I cannot determine the answer to that.\"\n",
        "\n",
        "ask(\"What is the meaning of life?\", qa_handler)"
      ]
    },
    {
      "cell_type": "code",
      "execution_count": 29,
      "metadata": {
        "id": "scCL8Oo-BdHB",
        "colab": {
          "base_uri": "https://localhost:8080/"
        },
        "outputId": "f51efc8e-b553-4eaa-a0d0-772078086539"
      },
      "outputs": [
        {
          "output_type": "stream",
          "name": "stdout",
          "text": [
            "Query: What are the different modules included with Fishbowl?\n",
            "--------------------------------------------------------------------------------\n",
            "Response: Based on the provided context:  Fishbowl is organized into modules, which are accessed by selecting a Module Group and\n",
            "then clicking a Module.  Examples mentioned include: *   The **My Fishbowl** module (located in the General group). *\n",
            "The **Sales Order** module (located in the Sales group). *   The **Accounting** module.  The context also mentions an\n",
            "image that gives an overview of the major modules, but the image itself is not included in the text provided. Therefore,\n",
            "a complete list of all modules included with Fishbowl cannot be determined from the context alone.\n",
            "--------------------------------------------------------------------------------\n"
          ]
        }
      ],
      "source": [
        "ask(\"What are the different modules included with Fishbowl?\", qa_handler)"
      ]
    },
    {
      "cell_type": "code",
      "source": [
        "ask(\"Where can I get Customer Support information?\", qa_handler)"
      ],
      "metadata": {
        "colab": {
          "base_uri": "https://localhost:8080/"
        },
        "id": "2otlvHbWJ9Jj",
        "outputId": "4561df49-9331-4d7a-f9b0-d31abf0413e7"
      },
      "execution_count": 30,
      "outputs": [
        {
          "output_type": "stream",
          "name": "stdout",
          "text": [
            "Query: Where can I get Customer Support information?\n",
            "--------------------------------------------------------------------------------\n",
            "Response: Based on the provided context:  The **My Fishbowl** module, located in the **General** group, displays helpful\n",
            "information related to support:  1.  It shows **support contract details**. 2.  The **Support tab** within the My\n",
            "Fishbowl module displays the support tickets created when your company contacts Fishbowl. You can also create a new\n",
            "request by clicking the **New Support Request** button on this tab. 3.  The **Company tab** displays the contact\n",
            "information that Fishbowl will use to contact your company. 4.  The **Contract tab** can be used to renew your support\n",
            "contract.\n",
            "--------------------------------------------------------------------------------\n"
          ]
        }
      ]
    },
    {
      "cell_type": "code",
      "source": [
        "ask(\"Where can I get the user manual?\", qa_handler)"
      ],
      "metadata": {
        "colab": {
          "base_uri": "https://localhost:8080/"
        },
        "id": "_ZRijQX42ZWU",
        "outputId": "99def470-b058-49bd-baa0-b839949cea92"
      },
      "execution_count": 31,
      "outputs": [
        {
          "output_type": "stream",
          "name": "stdout",
          "text": [
            "Query: Where can I get the user manual?\n",
            "--------------------------------------------------------------------------------\n",
            "Response: Based on the provided context, the Fishbowl Advanced documentation can be found at:\n",
            "https://help.fishbowlinventory.com/advanced/s/article/Documentation\n",
            "--------------------------------------------------------------------------------\n"
          ]
        }
      ]
    },
    {
      "cell_type": "code",
      "source": [
        "ask(\"Can you give me a list of items with low inventory levels?\", qa_handler)"
      ],
      "metadata": {
        "colab": {
          "base_uri": "https://localhost:8080/"
        },
        "id": "IidoDSQC3xkb",
        "outputId": "559866fe-e36f-47a0-d5b1-a914fc29910a"
      },
      "execution_count": 36,
      "outputs": [
        {
          "output_type": "stream",
          "name": "stdout",
          "text": [
            "Query: Can you give me a list of items with low inventory levels?\n",
            "--------------------------------------------------------------------------------\n",
            "Response: Based on the provided context:  The Inventory Dashboard module includes graphs for \"short parts,\" which may relate to\n",
            "low inventory levels. The Inventory module allows you to view parts and their quantities on hand.  However, the context\n",
            "does not explicitly describe how to generate a specific *list* of items identified as having low inventory levels.\n",
            "Therefore, I cannot determine the answer to that.\n",
            "--------------------------------------------------------------------------------\n"
          ]
        }
      ]
    },
    {
      "cell_type": "code",
      "source": [
        "ask(\"Can you provide the link for Inventory Dashboard?\", qa_handler)"
      ],
      "metadata": {
        "colab": {
          "base_uri": "https://localhost:8080/"
        },
        "id": "C1r5vr4E4Eq-",
        "outputId": "589c92a3-8bcf-466c-f8d1-f8509c28baf6"
      },
      "execution_count": 37,
      "outputs": [
        {
          "output_type": "stream",
          "name": "stdout",
          "text": [
            "Query: Can you provide the link for Inventory Dashboard?\n",
            "--------------------------------------------------------------------------------\n",
            "Response: Here is the link for the Inventory Dashboard: https://help.fishbowlinventory.com/advanced/s/article/Inventory-Dashboard\n",
            "--------------------------------------------------------------------------------\n"
          ]
        }
      ]
    },
    {
      "cell_type": "code",
      "source": [
        "ask(\"Can you provide information on pricing module?\", qa_handler)"
      ],
      "metadata": {
        "colab": {
          "base_uri": "https://localhost:8080/"
        },
        "id": "QzPIYlLR4gLg",
        "outputId": "3f20816c-178a-41a1-fcc1-d28ef099e255"
      },
      "execution_count": 38,
      "outputs": [
        {
          "output_type": "stream",
          "name": "stdout",
          "text": [
            "Query: Can you provide information on pricing module?\n",
            "--------------------------------------------------------------------------------\n",
            "Response: The Pricing Rule module, found in the Sales group, enables automatic price adjustments on sales orders based on various\n",
            "factors like average cost, order quantity, customer details, day, or specific products.  Here's what you can do with the\n",
            "Pricing Rule module:  1.  **Create Rules:** Use the 'New' button to create a pricing rule. You select applicable\n",
            "customers and products, then choose an adjustment type and a price/cost value. 2.  **Manage Rules:** You can Save,\n",
            "Delete, or Duplicate existing rules. Rules can also be inactivated using the 'Active' checkbox on the General tab. 3.\n",
            "**Adjust Product Prices:** Besides affecting sales order prices, rules can directly adjust the 'Price' field within the\n",
            "Product module. If a rule is only for adjusting product prices, it can be disabled for sales orders via the Advanced\n",
            "tab. 4.  **Understand Precedence:** Pricing rules offer flexibility through types, tiers, and module options. It's\n",
            "important to understand rule precedence to know how the final price on a sales order is determined. Customer rules\n",
            "generally have the highest precedence. The applied rule can be changed on the sales order itself. 5.  **View Details:**\n",
            "The General tab shows the rule's name, description, associated customers/products, and adjustment details. The Advanced\n",
            "tab shows rounding options, dates, quantities, tiers, etc. The Details tab provides a summary and allows viewing\n",
            "specific dollar amounts for the products the rule applies to. 6.  **Import Rules:** Pricing rules can be imported. 7.\n",
            "**Customize:** Some aspects of the module can be customized via the Tools menu by selecting Module Options. 8.  **Other\n",
            "Actions:** The module also includes buttons to Adjust Prices in the Product module, Email (attaching a default report if\n",
            "specified), Print the default report, open the help article (How To), and Refresh the view.\n",
            "--------------------------------------------------------------------------------\n"
          ]
        }
      ]
    },
    {
      "cell_type": "code",
      "source": [
        "ask(\"Where can i get details about my purchase order?\", qa_handler)"
      ],
      "metadata": {
        "colab": {
          "base_uri": "https://localhost:8080/"
        },
        "id": "OCbmuxqX4rMO",
        "outputId": "45b6081d-4d5b-4f2a-fd01-3a0125fb9d4b"
      },
      "execution_count": 39,
      "outputs": [
        {
          "output_type": "stream",
          "name": "stdout",
          "text": [
            "Query: Where can i get details about my purchase order?\n",
            "--------------------------------------------------------------------------------\n",
            "Response: You can get details about your purchase order within the **Purchase Order module**.  Once you have located your purchase\n",
            "order (using the Search pane on the left if needed), you can find information in the following tabs:  1.  **General\n",
            "tab:** Displays important order information like the vendor, order number, order status, addresses, order items, and\n",
            "more. 2.  **Details tab:** Shows important order details such as a link to the vendor, the last user who modified the\n",
            "order, shipping terms, payment terms, carrier, order dates, and more. 3.  **Memo tab:** Allows you to view any memos\n",
            "added to the purchase order, including the date they were created and the user who created them. 4.  **Custom tab:**\n",
            "Stores additional custom fields specific to the order.\n",
            "--------------------------------------------------------------------------------\n"
          ]
        }
      ]
    },
    {
      "cell_type": "code",
      "source": [
        "ask(\"Provide details about Fishbowl Flow Chart\", qa_handler)"
      ],
      "metadata": {
        "colab": {
          "base_uri": "https://localhost:8080/"
        },
        "id": "HJpmCRXZ46as",
        "outputId": "fedd1329-74c5-40db-90b2-312654b85b0a"
      },
      "execution_count": 40,
      "outputs": [
        {
          "output_type": "stream",
          "name": "stdout",
          "text": [
            "Query: Provide details about Fishbowl Flow Chart\n",
            "--------------------------------------------------------------------------------\n",
            "Response: I cannot determine the answer to that.\n",
            "--------------------------------------------------------------------------------\n"
          ]
        }
      ]
    },
    {
      "cell_type": "code",
      "source": [
        "ask(\"Where can I do Capacity Planning?\", qa_handler)"
      ],
      "metadata": {
        "colab": {
          "base_uri": "https://localhost:8080/"
        },
        "id": "tEsa6Qfr5KOT",
        "outputId": "103e14ea-e86b-486a-b81c-62dfe72f3216"
      },
      "execution_count": 41,
      "outputs": [
        {
          "output_type": "stream",
          "name": "stdout",
          "text": [
            "Query: Where can I do Capacity Planning?\n",
            "--------------------------------------------------------------------------------\n",
            "Response: Based on the provided context:  Capacity Planning can be done using the **Capacity Planning Report** and the **Category\n",
            "Capacity Planning** report. These reports are located within the **BI Report module**, which is part of the **Reporting\n",
            "group**.  *   The **Capacity Planning Report** displays scheduled work orders, total time scheduled per day, and allows\n",
            "rescheduling of work orders. *   The **Category Capacity Planning** report displays weekly capacity and scheduled work\n",
            "orders separated by calendar category.\n",
            "--------------------------------------------------------------------------------\n"
          ]
        }
      ]
    },
    {
      "cell_type": "code",
      "source": [
        "ask(\"How does Fishbowl yse import and export documentation?\", qa_handler)"
      ],
      "metadata": {
        "colab": {
          "base_uri": "https://localhost:8080/"
        },
        "id": "zQ-Ej2al5kXp",
        "outputId": "0b7dca8b-96f6-4f96-9f40-d85f6321ef04"
      },
      "execution_count": 42,
      "outputs": [
        {
          "output_type": "stream",
          "name": "stdout",
          "text": [
            "Query: How does Fishbowl yse import and export documentation?\n",
            "--------------------------------------------------------------------------------\n",
            "Response: The list of imports and exports, along with the corresponding documentation, can be found in the Fishbowl Client. This\n",
            "documentation includes instructions for the available imports and exports.\n",
            "--------------------------------------------------------------------------------\n"
          ]
        }
      ]
    },
    {
      "cell_type": "code",
      "source": [
        "ask(\"I want to know about the YTD Revenues\", qa_handler)"
      ],
      "metadata": {
        "colab": {
          "base_uri": "https://localhost:8080/"
        },
        "id": "0QMR8lIm5v2m",
        "outputId": "a5830071-17b5-42a8-d3f1-29e8857151d6"
      },
      "execution_count": 43,
      "outputs": [
        {
          "output_type": "stream",
          "name": "stdout",
          "text": [
            "Query: I want to know about the YTD Revenues\n",
            "--------------------------------------------------------------------------------\n",
            "Response: I cannot determine the answer to that.  While the context mentions several reports related to revenue and sales, such as\n",
            "the MTD Chart (Month to Date), Sales By Region, Sales By Rep, Sales Goal Chart, Top Products Chart, Gross Sales reports,\n",
            "and TPS Report, none are explicitly described as providing \"YTD Revenues\" (Year to Date Revenues). Some reports can be\n",
            "filtered by date range, which might allow for calculating YTD figures, but the context does not explicitly confirm a\n",
            "dedicated YTD Revenue report.\n",
            "--------------------------------------------------------------------------------\n"
          ]
        }
      ]
    },
    {
      "cell_type": "code",
      "source": [
        "ask(\"I want to create a new kit, where can I get information on the same? \", qa_handler)"
      ],
      "metadata": {
        "colab": {
          "base_uri": "https://localhost:8080/"
        },
        "id": "wOjFhilP6Yds",
        "outputId": "a1ff2010-190f-415c-e506-b01b60fe5f41"
      },
      "execution_count": 44,
      "outputs": [
        {
          "output_type": "stream",
          "name": "stdout",
          "text": [
            "Query: I want to create a new kit, where can I get information on the same? \n",
            "--------------------------------------------------------------------------------\n",
            "Response: Based on the provided context:  1.  **Locate the Module:** Kits are created in the **Product module**. 2.  **Initiate\n",
            "Creation:** To create a new kit, go to the Product module, click the small arrow on the **New** button, and select **New\n",
            "Kit**. 3.  **Enter General Information:** A blank kit will appear. Enter the Kit Name, Description, Price, etc., in the\n",
            "**General** tab. 4.  **Add Kit Items:** Select the **Kit Items** tab. Click the **Add Product to Kit** icon on the\n",
            "component toolbar. This opens the **Add Kit Item Wizard**. 5.  **Choose Item Type:** The wizard will first ask you to\n",
            "choose the type of item to add (Standard, Optional, Variable, Variable-Optional, Discount, or Tax Rate). 6.  **Follow\n",
            "Wizard Steps:** The process for adding items is similar for each type, though the wizard steps might vary slightly.\n",
            "Ensure any products you want to include already exist in Fishbowl. 7.  **Save the Kit:** Once all items are added, click\n",
            "the **Save** option on the module toolbar.  You can find detailed instructions, including how to add each specific item\n",
            "type, in the provided context under the heading \"**Create a new kit**\" from the URL\n",
            "`https://help.fishbowlinventory.com/advanced/s/article/Kitting`.\n",
            "--------------------------------------------------------------------------------\n"
          ]
        }
      ]
    },
    {
      "cell_type": "markdown",
      "metadata": {
        "id": "k5bU1-xoZyT8"
      },
      "source": [
        "Notes and Links to resources"
      ]
    },
    {
      "cell_type": "code",
      "execution_count": 32,
      "metadata": {
        "id": "6PKyooOraOCK"
      },
      "outputs": [],
      "source": [
        "# TODO: Get api keys https://docs.smith.langchain.com/administration/how_to_guides/organization_management/create_account_api_key\n",
        "# os.environ[\"LANGSMITH_TRACING\"] = \"true\"\n",
        "# os.environ[\"LANGSMITH_API_KEY\"] = getpass.getpass(\"Enter your LangSmith API key: \")"
      ]
    },
    {
      "cell_type": "code",
      "execution_count": 33,
      "metadata": {
        "id": "U8b2XMk7dWQT"
      },
      "outputs": [],
      "source": [
        "# https://docs.smith.langchain.com/prompt_engineering/quickstarts/quickstart_sdk"
      ]
    },
    {
      "cell_type": "code",
      "execution_count": 34,
      "metadata": {
        "id": "3YNDTj1kbuxA"
      },
      "outputs": [],
      "source": [
        "# https://python.langchain.com/docs/integrations/chat/"
      ]
    },
    {
      "cell_type": "code",
      "execution_count": 35,
      "metadata": {
        "id": "uPUMndnQbZA8"
      },
      "outputs": [],
      "source": [
        "# https://python.langchain.com/docs/integrations/text_embedding/google_vertex_ai_palm/"
      ]
    }
  ],
  "metadata": {
    "colab": {
      "provenance": []
    },
    "kernelspec": {
      "display_name": "Python 3",
      "name": "python3"
    },
    "language_info": {
      "name": "python"
    }
  },
  "nbformat": 4,
  "nbformat_minor": 0
}